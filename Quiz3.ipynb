{
  "nbformat": 4,
  "nbformat_minor": 0,
  "metadata": {
    "colab": {
      "name": "Quiz3.ipynb",
      "provenance": [],
      "authorship_tag": "ABX9TyPP7fHuWWV4m41HuQ3AQwoG",
      "include_colab_link": true
    },
    "kernelspec": {
      "name": "python3",
      "display_name": "Python 3"
    }
  },
  "cells": [
    {
      "cell_type": "markdown",
      "metadata": {
        "id": "view-in-github",
        "colab_type": "text"
      },
      "source": [
        "<a href=\"https://colab.research.google.com/github/dinsor17/data_viz/blob/main/Quiz3.ipynb\" target=\"_parent\"><img src=\"https://colab.research.google.com/assets/colab-badge.svg\" alt=\"Open In Colab\"/></a>"
      ]
    },
    {
      "cell_type": "markdown",
      "metadata": {
        "id": "279wXCTkCuTn"
      },
      "source": [
        "โหลดตาราง ตค57 กับ ตาราง พย57  \r\n",
        "จากไฟล์ จัดซื้อ ตค57-ตค58 \r\n",
        "\r\n",
        "จาก https://data.go.th/dataset/item_fadc318e-7743-4bc2-84d1-a19210a9bbd6"
      ]
    },
    {
      "cell_type": "code",
      "metadata": {
        "id": "1SIqxF5yCiNz"
      },
      "source": [
        "import pandas as pd"
      ],
      "execution_count": 1,
      "outputs": []
    },
    {
      "cell_type": "code",
      "metadata": {
        "id": "e3avHIaXCyXy"
      },
      "source": [
        "oct57 = pd.read_excel('/content/-.57-.58-1.xls',sheet_name=0,header=4,skipfooter=20)\r\n",
        "oct57 = oct57.dropna()\r\n",
        "oct57"
      ],
      "execution_count": null,
      "outputs": []
    },
    {
      "cell_type": "code",
      "metadata": {
        "id": "OJes_xvkDexL"
      },
      "source": [
        "oct57.rename(columns={'Unnamed: 5':'ราคาเสนอ','Unnamed: 7':'ราคาซื้อ'})"
      ],
      "execution_count": null,
      "outputs": []
    },
    {
      "cell_type": "markdown",
      "metadata": {
        "id": "GpCN5cdEDhNd"
      },
      "source": [
        "## การบ้าน 8 ทำ พย57 ให้เสร็จ"
      ]
    }
  ]
}