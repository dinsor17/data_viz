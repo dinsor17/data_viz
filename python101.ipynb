{
  "nbformat": 4,
  "nbformat_minor": 0,
  "metadata": {
    "colab": {
      "name": "python101.ipynb",
      "provenance": [],
      "authorship_tag": "ABX9TyPOWJzaiK37MTrS1AyN5vjz",
      "include_colab_link": true
    },
    "kernelspec": {
      "name": "python3",
      "display_name": "Python 3"
    }
  },
  "cells": [
    {
      "cell_type": "markdown",
      "metadata": {
        "id": "view-in-github",
        "colab_type": "text"
      },
      "source": [
        "<a href=\"https://colab.research.google.com/github/dinsor17/data_viz/blob/main/python101.ipynb\" target=\"_parent\"><img src=\"https://colab.research.google.com/assets/colab-badge.svg\" alt=\"Open In Colab\"/></a>"
      ]
    },
    {
      "cell_type": "markdown",
      "metadata": {
        "id": "fpdZnWfNNpHM"
      },
      "source": [
        "##Variables"
      ]
    },
    {
      "cell_type": "code",
      "metadata": {
        "colab": {
          "base_uri": "https://localhost:8080/"
        },
        "id": "fLYwRyD3M5Eh",
        "outputId": "9040f815-664a-4b5e-fdb0-1a6e054b2815"
      },
      "source": [
        "3.14159265359"
      ],
      "execution_count": null,
      "outputs": [
        {
          "output_type": "execute_result",
          "data": {
            "text/plain": [
              "3.14159265359"
            ]
          },
          "metadata": {
            "tags": []
          },
          "execution_count": 76
        }
      ]
    },
    {
      "cell_type": "markdown",
      "metadata": {
        "id": "pCGh0pPrOAAA"
      },
      "source": [
        "หลักการตั้งชื่อตัวแปรเบื้องต้น\r\n",
        "1. ตั้งให้สื่อ\r\n",
        "2. ภาษาอังกฤษ\r\n",
        "3. ใช้ตัวเลขได้แต่ห้ามขึ้นต้นด้วยตัวเลข\r\n",
        "4. ห้ามเว้นวรรค"
      ]
    },
    {
      "cell_type": "code",
      "metadata": {
        "id": "v4zNZysUOtmK",
        "colab": {
          "base_uri": "https://localhost:8080/"
        },
        "outputId": "4c3c4de3-5bb7-414b-9403-697fda22ef1a"
      },
      "source": [
        "pi = 3.14159265359\r\n",
        "pi"
      ],
      "execution_count": null,
      "outputs": [
        {
          "output_type": "execute_result",
          "data": {
            "text/plain": [
              "3.14159265359"
            ]
          },
          "metadata": {
            "tags": []
          },
          "execution_count": 83
        }
      ]
    },
    {
      "cell_type": "markdown",
      "metadata": {
        "id": "F_bQa6HKPLeE"
      },
      "source": [
        "###int : จำนวนเต็ม"
      ]
    },
    {
      "cell_type": "code",
      "metadata": {
        "id": "yzc_PTNvojJw"
      },
      "source": [
        "a = 10"
      ],
      "execution_count": null,
      "outputs": []
    },
    {
      "cell_type": "code",
      "metadata": {
        "colab": {
          "base_uri": "https://localhost:8080/"
        },
        "id": "Znj8-jYVokgu",
        "outputId": "8a800bbc-2de0-43a0-d9a3-894ed6fa1ff1"
      },
      "source": [
        "print(a)"
      ],
      "execution_count": null,
      "outputs": [
        {
          "output_type": "stream",
          "text": [
            "10\n"
          ],
          "name": "stdout"
        }
      ]
    },
    {
      "cell_type": "markdown",
      "metadata": {
        "id": "vflxfaeUO_B1"
      },
      "source": [
        "###float : จำนวนจริง (ทศนิยม)"
      ]
    },
    {
      "cell_type": "code",
      "metadata": {
        "colab": {
          "base_uri": "https://localhost:8080/"
        },
        "id": "0r8nhK-lPKCJ",
        "outputId": "63915267-95d8-4a72-fe70-036990b0c8f2"
      },
      "source": [
        "#ถึงจะใส่แค่จุดมันก็รู้ว่าเป็น 10.0\r\n",
        "b = 10. \r\n",
        "print(b)"
      ],
      "execution_count": null,
      "outputs": [
        {
          "output_type": "stream",
          "text": [
            "10.0\n"
          ],
          "name": "stdout"
        }
      ]
    },
    {
      "cell_type": "markdown",
      "metadata": {
        "id": "66wGSa_VPoMh"
      },
      "source": [
        "###ตัวอักษร (char(character)) ข้อความ (text หรือ string)"
      ]
    },
    {
      "cell_type": "markdown",
      "metadata": {
        "id": "C7cN2wQKPsNQ"
      },
      "source": [
        "-> # hashtag, sharp ใช้สำหรับคอมเม้น"
      ]
    },
    {
      "cell_type": "code",
      "metadata": {
        "colab": {
          "base_uri": "https://localhost:8080/"
        },
        "id": "iHuadNLTPfRb",
        "outputId": "77d9977c-bb9f-4929-8074-6064ffb58eb1"
      },
      "source": [
        "c = 'นักเขียนการ์ตูน' #เราจะบอกว่าตัวแปรเป็นตัวอักษรหรือข้อความโดยการใช้ single quote ' หรือ double \" ล้อมรอบ\r\n",
        "print(c)"
      ],
      "execution_count": null,
      "outputs": [
        {
          "output_type": "stream",
          "text": [
            "นักเขียนการ์ตูน\n"
          ],
          "name": "stdout"
        }
      ]
    },
    {
      "cell_type": "markdown",
      "metadata": {
        "id": "FgeVAH_HRBNG"
      },
      "source": [
        "###ตัวเลขที่เป็น string ไม่สามารถเอามา +,- x / กับตัวเลขได้"
      ]
    },
    {
      "cell_type": "code",
      "metadata": {
        "colab": {
          "base_uri": "https://localhost:8080/"
        },
        "id": "hriKafJMPm9w",
        "outputId": "db0ab036-95c7-440b-a4b6-42bd9f670f85"
      },
      "source": [
        "d = '10'\r\n",
        "print(d)"
      ],
      "execution_count": null,
      "outputs": [
        {
          "output_type": "stream",
          "text": [
            "10\n"
          ],
          "name": "stdout"
        }
      ]
    },
    {
      "cell_type": "code",
      "metadata": {
        "colab": {
          "base_uri": "https://localhost:8080/",
          "height": 167
        },
        "id": "tHdwG5bvQ6Tp",
        "outputId": "b1dbf390-7191-4d49-8a65-3a79d21be2ed"
      },
      "source": [
        "d + 1 #Errorเพราะตัวอักษร+ตัวเลขไม่ได้"
      ],
      "execution_count": null,
      "outputs": [
        {
          "output_type": "error",
          "ename": "TypeError",
          "evalue": "ignored",
          "traceback": [
            "\u001b[0;31m---------------------------------------------------------------------------\u001b[0m",
            "\u001b[0;31mTypeError\u001b[0m                                 Traceback (most recent call last)",
            "\u001b[0;32m<ipython-input-75-facdcfd96c5b>\u001b[0m in \u001b[0;36m<module>\u001b[0;34m()\u001b[0m\n\u001b[0;32m----> 1\u001b[0;31m \u001b[0md\u001b[0m \u001b[0;34m+\u001b[0m \u001b[0;36m1\u001b[0m \u001b[0;31m#Errorเพราะตัวอักษร+ตัวเลขไม่ได้\u001b[0m\u001b[0;34m\u001b[0m\u001b[0;34m\u001b[0m\u001b[0m\n\u001b[0m",
            "\u001b[0;31mTypeError\u001b[0m: must be str, not int"
          ]
        }
      ]
    },
    {
      "cell_type": "markdown",
      "metadata": {
        "id": "-cqJ_wRaRpWr"
      },
      "source": [
        "###variable casting (การเปลี่ยนชนิดของข้อมูล)"
      ]
    },
    {
      "cell_type": "code",
      "metadata": {
        "id": "fhP1RgPFR_2l",
        "colab": {
          "base_uri": "https://localhost:8080/"
        },
        "outputId": "9c56788a-1f17-4c97-b842-7e35eddb7dd5"
      },
      "source": [
        "int(d) + 1"
      ],
      "execution_count": null,
      "outputs": [
        {
          "output_type": "execute_result",
          "data": {
            "text/plain": [
              "11"
            ]
          },
          "metadata": {
            "tags": []
          },
          "execution_count": 77
        }
      ]
    },
    {
      "cell_type": "code",
      "metadata": {
        "id": "op9AP87ESMFY",
        "colab": {
          "base_uri": "https://localhost:8080/"
        },
        "outputId": "eb8dedc9-3f53-4368-c37d-d48ff3d1bf8c"
      },
      "source": [
        "print(a)\r\n",
        "print(float(a))\r\n",
        "print(str(a))"
      ],
      "execution_count": null,
      "outputs": [
        {
          "output_type": "stream",
          "text": [
            "10\n",
            "10.0\n",
            "10\n"
          ],
          "name": "stdout"
        }
      ]
    },
    {
      "cell_type": "markdown",
      "metadata": {
        "id": "WXFDHm8ySclg"
      },
      "source": [
        "#Operation (Operators +,-,*,/,%)"
      ]
    },
    {
      "cell_type": "code",
      "metadata": {
        "id": "o-kDnCrPSsmo",
        "colab": {
          "base_uri": "https://localhost:8080/"
        },
        "outputId": "c77326b6-f894-4dbd-ca53-e80d42fcf89b"
      },
      "source": [
        "a+b"
      ],
      "execution_count": null,
      "outputs": [
        {
          "output_type": "execute_result",
          "data": {
            "text/plain": [
              "20.0"
            ]
          },
          "metadata": {
            "tags": []
          },
          "execution_count": 79
        }
      ]
    },
    {
      "cell_type": "code",
      "metadata": {
        "id": "DGZ4kM8ZSv1A",
        "colab": {
          "base_uri": "https://localhost:8080/"
        },
        "outputId": "f3fadfcc-76cd-4d70-88f1-8f241636e5d5"
      },
      "source": [
        "ab = a+b\r\n",
        "print(ab)"
      ],
      "execution_count": null,
      "outputs": [
        {
          "output_type": "stream",
          "text": [
            "20.0\n"
          ],
          "name": "stdout"
        }
      ]
    },
    {
      "cell_type": "markdown",
      "metadata": {
        "id": "z-Blu3e0S-n5"
      },
      "source": [
        "###% คือเครื่องหมาย modulo"
      ]
    },
    {
      "cell_type": "code",
      "metadata": {
        "id": "ZYqR3hilS3KV",
        "colab": {
          "base_uri": "https://localhost:8080/"
        },
        "outputId": "1c7ae963-a42b-4793-ffbc-8473633a83f1"
      },
      "source": [
        "5%3"
      ],
      "execution_count": null,
      "outputs": [
        {
          "output_type": "execute_result",
          "data": {
            "text/plain": [
              "2"
            ]
          },
          "metadata": {
            "tags": []
          },
          "execution_count": 81
        }
      ]
    },
    {
      "cell_type": "code",
      "metadata": {
        "id": "kh-1HeGrTJL-",
        "colab": {
          "base_uri": "https://localhost:8080/"
        },
        "outputId": "999f5444-b1f3-4ed5-fec2-7a5fe7de1816"
      },
      "source": [
        "7%3"
      ],
      "execution_count": null,
      "outputs": [
        {
          "output_type": "execute_result",
          "data": {
            "text/plain": [
              "1"
            ]
          },
          "metadata": {
            "tags": []
          },
          "execution_count": 82
        }
      ]
    },
    {
      "cell_type": "markdown",
      "metadata": {
        "id": "D-NI28jOTUpb"
      },
      "source": [
        "###คำสั่ง print แบบพิเศษ (การ format string)"
      ]
    },
    {
      "cell_type": "code",
      "metadata": {
        "id": "i5Ugw1X_TL73",
        "colab": {
          "base_uri": "https://localhost:8080/"
        },
        "outputId": "77c68d47-2332-4b47-8d22-a0be94d50f00"
      },
      "source": [
        "print('ตัวแปร') #สิ่งที่อยู่ข้างในวงเล็บคือ ตัวแปร และ string"
      ],
      "execution_count": null,
      "outputs": [
        {
          "output_type": "stream",
          "text": [
            "ตัวแปร\n"
          ],
          "name": "stdout"
        }
      ]
    },
    {
      "cell_type": "code",
      "metadata": {
        "id": "Rb8VpvgFT1WA",
        "colab": {
          "base_uri": "https://localhost:8080/"
        },
        "outputId": "ac2c7190-6e94-4d98-dfa1-505d45846bc0"
      },
      "source": [
        "print(f'% คือการหารเอาเศษ เช่น 7%3 = {7%3}') # เพิ่ม f หน้า 'string' และใช้ {} ใสโค้ด"
      ],
      "execution_count": null,
      "outputs": [
        {
          "output_type": "stream",
          "text": [
            "% คือการหารเอาเศษ เช่น 7%3 = 1\n"
          ],
          "name": "stdout"
        }
      ]
    },
    {
      "cell_type": "code",
      "metadata": {
        "id": "K3LRumSwUcqH",
        "colab": {
          "base_uri": "https://localhost:8080/"
        },
        "outputId": "45b637a2-257c-43d2-c039-37347ef634a2"
      },
      "source": [
        "print(f'% คือการหารเอาเศษ เช่น 7%3 = {7%3} แต่ \\n/ คือการหารปกติ เช่น 7/3 = {7/3}') # \\n คือการขึ้นบรรทัดใหม่"
      ],
      "execution_count": null,
      "outputs": [
        {
          "output_type": "stream",
          "text": [
            "% คือการหารเอาเศษ เช่น 7%3 = 1 แต่ \n",
            "/ คือการหารปกติ เช่น 7/3 = 2.3333333333333335\n"
          ],
          "name": "stdout"
        }
      ]
    },
    {
      "cell_type": "markdown",
      "metadata": {
        "id": "0LWc-_cCXN7q"
      },
      "source": [
        "##โจทย์ เพิ่มอีกบรรทัด แสดงวิธีการหารเอาส่วน"
      ]
    },
    {
      "cell_type": "code",
      "metadata": {
        "id": "HXOvRzc7Zfs4",
        "colab": {
          "base_uri": "https://localhost:8080/"
        },
        "outputId": "0d2cd725-ca9f-4b72-ffa4-ce44b2338c22"
      },
      "source": [
        "print(f'% คือการหารเอาเศษ เช่น 7%3 = {7%3} \\\\\r\n",
        "        แต่ \\n/ คือการหารปกติ เช่น 7/3 = {7/3}  \\\\\r\n",
        "        และ \\n// คือการหารเอาส่วน เช่น 7//3 = {7//3} \\\\\r\n",
        "        หรือ \\nใช้ int() เพื่อหารเอาส่วน เช่น int(7/3) = {int(7/3)}') # \\n คือการขึ้นบรรทัดใหม่ \\\\ ใช้ในการตัด code แต่ com จะไม่เห็น"
      ],
      "execution_count": null,
      "outputs": [
        {
          "output_type": "stream",
          "text": [
            "% คือการหารเอาเศษ เช่น 7%3 = 1 \\        แต่ \n",
            "/ คือการหารปกติ เช่น 7/3 = 2.3333333333333335  \\        และ \n",
            "// คือการหารเอาส่วน เช่น 7//3 = 2 \\        หรือ \n",
            "ใช้ int() เพื่อหารเอาส่วน เช่น int(7/3) = 2\n"
          ],
          "name": "stdout"
        }
      ]
    },
    {
      "cell_type": "markdown",
      "metadata": {
        "id": "kc-i4w_Ap_o4"
      },
      "source": [
        "##DATA STRUCTURE (โครงสร้างข้อมูล)\r\n",
        "###List คือ การเอาตัวแปรหลายๆตัวมาเรียงกัน\r\n",
        "list สามารถสร้างได้ 2แบบ ดังนี้"
      ]
    },
    {
      "cell_type": "markdown",
      "metadata": {
        "id": "1iGxfzJla29Z"
      },
      "source": [
        "แบบที่ 1 > square brackets"
      ]
    },
    {
      "cell_type": "code",
      "metadata": {
        "id": "8fxEG2uKZuNI",
        "colab": {
          "base_uri": "https://localhost:8080/"
        },
        "outputId": "229e758e-6e76-494a-8d59-8966ecbec3b6"
      },
      "source": [
        "list_a = []\r\n",
        "print(list_a)"
      ],
      "execution_count": null,
      "outputs": [
        {
          "output_type": "stream",
          "text": [
            "[]\n"
          ],
          "name": "stdout"
        }
      ]
    },
    {
      "cell_type": "code",
      "metadata": {
        "id": "JG3uYMozbD7V",
        "colab": {
          "base_uri": "https://localhost:8080/"
        },
        "outputId": "4cdc7f88-d3a0-4547-94da-653847fe98a7"
      },
      "source": [
        "list_b = [1,5,'v']\r\n",
        "print(list_b)"
      ],
      "execution_count": null,
      "outputs": [
        {
          "output_type": "stream",
          "text": [
            "[1, 5, 'v']\n"
          ],
          "name": "stdout"
        }
      ]
    },
    {
      "cell_type": "markdown",
      "metadata": {
        "id": "4fOzZBy6bVb0"
      },
      "source": [
        "ลำดับที่อยู่ใน list มีความสำคัญ (ลำดับใน list เริ่มจาก 0,1,2,...)"
      ]
    },
    {
      "cell_type": "code",
      "metadata": {
        "id": "cBFqZ_zQbRCQ",
        "colab": {
          "base_uri": "https://localhost:8080/"
        },
        "outputId": "f6cc7125-0263-4c44-a6b3-fafe87197c9c"
      },
      "source": [
        "list_b[1] #[1, 5, 'v']"
      ],
      "execution_count": null,
      "outputs": [
        {
          "output_type": "execute_result",
          "data": {
            "text/plain": [
              "5"
            ]
          },
          "metadata": {
            "tags": []
          },
          "execution_count": 92
        }
      ]
    },
    {
      "cell_type": "markdown",
      "metadata": {
        "id": "VV4_xLrUbvdI"
      },
      "source": [
        "แบบที่ 2"
      ]
    },
    {
      "cell_type": "code",
      "metadata": {
        "id": "9RDffyFgbxv_",
        "colab": {
          "base_uri": "https://localhost:8080/"
        },
        "outputId": "00f7ea11-77f7-4185-ae9a-1bfa7c89df63"
      },
      "source": [
        "list_c = list()\r\n",
        "print(list_c)"
      ],
      "execution_count": null,
      "outputs": [
        {
          "output_type": "stream",
          "text": [
            "[]\n"
          ],
          "name": "stdout"
        }
      ]
    },
    {
      "cell_type": "markdown",
      "metadata": {
        "id": "KIwCk4WDcMyC"
      },
      "source": [
        "##append() เพิ่มสมาชิกใน list"
      ]
    },
    {
      "cell_type": "code",
      "metadata": {
        "id": "lMSycmiMcKDZ",
        "colab": {
          "base_uri": "https://localhost:8080/"
        },
        "outputId": "8558973a-f41a-4a48-82cb-9132a176f278"
      },
      "source": [
        "list_b.append('u')\r\n",
        "print(list_b)"
      ],
      "execution_count": null,
      "outputs": [
        {
          "output_type": "stream",
          "text": [
            "[1, 5, 'v', 'u']\n"
          ],
          "name": "stdout"
        }
      ]
    },
    {
      "cell_type": "code",
      "metadata": {
        "id": "LOYXPtsgce5I",
        "colab": {
          "base_uri": "https://localhost:8080/",
          "height": 35
        },
        "outputId": "11100733-0417-4655-fa31-01c8979205ea"
      },
      "source": [
        "list_b.pop() ### ดึงสมาชิกตัวสุดท้ายออกจาก list"
      ],
      "execution_count": null,
      "outputs": [
        {
          "output_type": "execute_result",
          "data": {
            "application/vnd.google.colaboratory.intrinsic+json": {
              "type": "string"
            },
            "text/plain": [
              "'u'"
            ]
          },
          "metadata": {
            "tags": []
          },
          "execution_count": 95
        }
      ]
    },
    {
      "cell_type": "code",
      "metadata": {
        "id": "p6vx-JAJcxr2",
        "colab": {
          "base_uri": "https://localhost:8080/"
        },
        "outputId": "9ad24257-52ae-4e25-cb8c-14b0bdcf7ac8"
      },
      "source": [
        "list_b"
      ],
      "execution_count": null,
      "outputs": [
        {
          "output_type": "execute_result",
          "data": {
            "text/plain": [
              "[1, 5, 'v']"
            ]
          },
          "metadata": {
            "tags": []
          },
          "execution_count": 96
        }
      ]
    },
    {
      "cell_type": "code",
      "metadata": {
        "id": "9i6FBg1gc0tr",
        "colab": {
          "base_uri": "https://localhost:8080/"
        },
        "outputId": "47d4da80-26ec-4841-c7f6-c37e1fa3e240"
      },
      "source": [
        "list_b.append(list_a)\r\n",
        "print(list_b)"
      ],
      "execution_count": null,
      "outputs": [
        {
          "output_type": "stream",
          "text": [
            "[1, 5, 'v', []]\n"
          ],
          "name": "stdout"
        }
      ]
    },
    {
      "cell_type": "markdown",
      "metadata": {
        "id": "T02Te8utdGo-"
      },
      "source": [
        "##String > list of characters"
      ]
    },
    {
      "cell_type": "code",
      "metadata": {
        "id": "uSmxLfxYdRCm",
        "colab": {
          "base_uri": "https://localhost:8080/",
          "height": 35
        },
        "outputId": "40ded0fd-4964-4004-9790-9cf4e66f1b3d"
      },
      "source": [
        "t = 'python is easy'\r\n",
        "t"
      ],
      "execution_count": null,
      "outputs": [
        {
          "output_type": "execute_result",
          "data": {
            "application/vnd.google.colaboratory.intrinsic+json": {
              "type": "string"
            },
            "text/plain": [
              "'python is easy'"
            ]
          },
          "metadata": {
            "tags": []
          },
          "execution_count": 98
        }
      ]
    },
    {
      "cell_type": "code",
      "metadata": {
        "id": "GSAnHTa5dkYI",
        "colab": {
          "base_uri": "https://localhost:8080/"
        },
        "outputId": "422d52a0-6d98-4b14-b63c-1a9c62c96b61"
      },
      "source": [
        "len(list_b) # len คือคำสั่งตรวจสอบความยาวของ list (จำนวนสมาชิก)\r\n",
        "               #จาก [1, 5, 'v', []]"
      ],
      "execution_count": null,
      "outputs": [
        {
          "output_type": "execute_result",
          "data": {
            "text/plain": [
              "4"
            ]
          },
          "metadata": {
            "tags": []
          },
          "execution_count": 99
        }
      ]
    },
    {
      "cell_type": "code",
      "metadata": {
        "id": "GFy77idceDWI",
        "colab": {
          "base_uri": "https://localhost:8080/"
        },
        "outputId": "686ffe78-e251-4a23-a90b-cc3969bceadf"
      },
      "source": [
        "len(t)"
      ],
      "execution_count": null,
      "outputs": [
        {
          "output_type": "execute_result",
          "data": {
            "text/plain": [
              "14"
            ]
          },
          "metadata": {
            "tags": []
          },
          "execution_count": 100
        }
      ]
    },
    {
      "cell_type": "markdown",
      "metadata": {
        "id": "ZC0xoS_reH47"
      },
      "source": [
        "###access a member of a list (list&string)\r\n",
        "โดยการเริ่มนับจะเริ่มนับจาก 0\r\n",
        "\r\n",
        "0 คือ สมาชิกตัวแรก , -1 คือสมาชิกตัวสุดท้าย\r\n"
      ]
    },
    {
      "cell_type": "code",
      "metadata": {
        "id": "CE64Xo8ie3vR",
        "colab": {
          "base_uri": "https://localhost:8080/",
          "height": 35
        },
        "outputId": "b74b127b-3862-49cb-ce32-06c00c68c92c"
      },
      "source": [
        "t[1]  "
      ],
      "execution_count": null,
      "outputs": [
        {
          "output_type": "execute_result",
          "data": {
            "application/vnd.google.colaboratory.intrinsic+json": {
              "type": "string"
            },
            "text/plain": [
              "'y'"
            ]
          },
          "metadata": {
            "tags": []
          },
          "execution_count": 101
        }
      ]
    },
    {
      "cell_type": "code",
      "metadata": {
        "id": "Tz0xwHjFe703",
        "colab": {
          "base_uri": "https://localhost:8080/",
          "height": 35
        },
        "outputId": "782fd14e-a665-40bd-9eb0-269c6abf934e"
      },
      "source": [
        "t[-1]"
      ],
      "execution_count": null,
      "outputs": [
        {
          "output_type": "execute_result",
          "data": {
            "application/vnd.google.colaboratory.intrinsic+json": {
              "type": "string"
            },
            "text/plain": [
              "'y'"
            ]
          },
          "metadata": {
            "tags": []
          },
          "execution_count": 102
        }
      ]
    },
    {
      "cell_type": "code",
      "metadata": {
        "id": "rWpFhySmfWbI",
        "colab": {
          "base_uri": "https://localhost:8080/",
          "height": 35
        },
        "outputId": "bd54affd-4deb-4163-d444-3f66bf47553e"
      },
      "source": [
        "t[-3]"
      ],
      "execution_count": null,
      "outputs": [
        {
          "output_type": "execute_result",
          "data": {
            "application/vnd.google.colaboratory.intrinsic+json": {
              "type": "string"
            },
            "text/plain": [
              "'a'"
            ]
          },
          "metadata": {
            "tags": []
          },
          "execution_count": 103
        }
      ]
    },
    {
      "cell_type": "code",
      "metadata": {
        "id": "_4HIVg7Efd5H",
        "colab": {
          "base_uri": "https://localhost:8080/",
          "height": 35
        },
        "outputId": "64411ebf-4864-48f1-9baa-0be326ff613f"
      },
      "source": [
        "t[-5]  #นับช่องว่างด้วย"
      ],
      "execution_count": null,
      "outputs": [
        {
          "output_type": "execute_result",
          "data": {
            "application/vnd.google.colaboratory.intrinsic+json": {
              "type": "string"
            },
            "text/plain": [
              "' '"
            ]
          },
          "metadata": {
            "tags": []
          },
          "execution_count": 104
        }
      ]
    },
    {
      "cell_type": "markdown",
      "metadata": {
        "id": "Fw8U3HlEflQy"
      },
      "source": [
        "###ตัวที่อยู่ข้างใน [ ] เราเรียกว่า index (ตัวชี้)\r\n",
        " List slicing สามารถทำได้โดยใช้ colon : [a:b] -> [a,b) "
      ]
    },
    {
      "cell_type": "code",
      "metadata": {
        "id": "6WDQYRPefkxz",
        "colab": {
          "base_uri": "https://localhost:8080/"
        },
        "outputId": "80dcb101-6044-4314-c894-d671a9fda4d5"
      },
      "source": [
        "print(t)\r\n",
        "print(t[7:9])  #นับช่องว่างด้วย"
      ],
      "execution_count": null,
      "outputs": [
        {
          "output_type": "stream",
          "text": [
            "python is easy\n",
            "is\n"
          ],
          "name": "stdout"
        }
      ]
    },
    {
      "cell_type": "markdown",
      "metadata": {
        "id": "uBBww9nmhDUG"
      },
      "source": [
        "ถ้าเว้นว่างหน้า : หมายความว่า  เริ่มตั้งแต่ตัวแรก\r\n",
        "\r\n",
        "ถ้าเว้นว่างหลัง : หมายความว่า ไปจนถึงตัวสุดท้าย"
      ]
    },
    {
      "cell_type": "code",
      "metadata": {
        "id": "yX_WQvjbg7N7",
        "colab": {
          "base_uri": "https://localhost:8080/"
        },
        "outputId": "22dd2d87-9159-4feb-b5c2-573c3342646c"
      },
      "source": [
        "print(t)\r\n",
        "print(t[:6])\r\n",
        "print(t[10:])\r\n",
        "print(t[-4:])\r\n",
        "print(t[:])"
      ],
      "execution_count": null,
      "outputs": [
        {
          "output_type": "stream",
          "text": [
            "python is easy\n",
            "python\n",
            "easy\n",
            "easy\n",
            "python is easy\n"
          ],
          "name": "stdout"
        }
      ]
    },
    {
      "cell_type": "markdown",
      "metadata": {
        "id": "nMNuzTQAiPmS"
      },
      "source": [
        "#### เราสามารถเอา list มาต่อกันได้ด้วย +"
      ]
    },
    {
      "cell_type": "code",
      "metadata": {
        "id": "3O3aSo5-iYpo",
        "colab": {
          "base_uri": "https://localhost:8080/",
          "height": 35
        },
        "outputId": "5206befc-2e4c-4eed-cbce-30d60be9b52e"
      },
      "source": [
        "t + '??'"
      ],
      "execution_count": null,
      "outputs": [
        {
          "output_type": "execute_result",
          "data": {
            "application/vnd.google.colaboratory.intrinsic+json": {
              "type": "string"
            },
            "text/plain": [
              "'python is easy??'"
            ]
          },
          "metadata": {
            "tags": []
          },
          "execution_count": 107
        }
      ]
    },
    {
      "cell_type": "code",
      "metadata": {
        "id": "_UJXz5t4qkRx",
        "colab": {
          "base_uri": "https://localhost:8080/",
          "height": 167
        },
        "outputId": "d5afc54c-ddaa-428d-de6d-00f9e665996e"
      },
      "source": [
        "t + list_b ## Error เพราะไม่สามารถเอา list ปกติมาต่อกับ string ได้"
      ],
      "execution_count": null,
      "outputs": [
        {
          "output_type": "error",
          "ename": "TypeError",
          "evalue": "ignored",
          "traceback": [
            "\u001b[0;31m---------------------------------------------------------------------------\u001b[0m",
            "\u001b[0;31mTypeError\u001b[0m                                 Traceback (most recent call last)",
            "\u001b[0;32m<ipython-input-108-8ceeb7529eac>\u001b[0m in \u001b[0;36m<module>\u001b[0;34m()\u001b[0m\n\u001b[0;32m----> 1\u001b[0;31m \u001b[0mt\u001b[0m \u001b[0;34m+\u001b[0m \u001b[0mlist_b\u001b[0m \u001b[0;31m## ไม่สามารถเอา list ปกติมาต่อกับ string ได้\u001b[0m\u001b[0;34m\u001b[0m\u001b[0;34m\u001b[0m\u001b[0m\n\u001b[0m",
            "\u001b[0;31mTypeError\u001b[0m: must be str, not list"
          ]
        }
      ]
    },
    {
      "cell_type": "code",
      "metadata": {
        "id": "z3iOBBwmig-8",
        "colab": {
          "base_uri": "https://localhost:8080/"
        },
        "outputId": "0f1460a9-36e4-4a40-de55-e78b0049f951"
      },
      "source": [
        "list_b + list_b"
      ],
      "execution_count": null,
      "outputs": [
        {
          "output_type": "execute_result",
          "data": {
            "text/plain": [
              "[1, 5, 'v', [], 1, 5, 'v', []]"
            ]
          },
          "metadata": {
            "tags": []
          },
          "execution_count": 109
        }
      ]
    },
    {
      "cell_type": "code",
      "metadata": {
        "id": "5eAhx04EjEDq",
        "colab": {
          "base_uri": "https://localhost:8080/"
        },
        "outputId": "3b570764-14a7-4e04-f2ba-b0b68394d31d"
      },
      "source": [
        "list_b + list_a"
      ],
      "execution_count": null,
      "outputs": [
        {
          "output_type": "execute_result",
          "data": {
            "text/plain": [
              "[1, 5, 'v', []]"
            ]
          },
          "metadata": {
            "tags": []
          },
          "execution_count": 110
        }
      ]
    },
    {
      "cell_type": "markdown",
      "metadata": {
        "id": "Cq6ZZ9FkjHEs"
      },
      "source": [
        "####การแบ่ง string ตามสัญลักษณ์ที่กำหนด -> split string"
      ]
    },
    {
      "cell_type": "code",
      "metadata": {
        "id": "nw7_h2lCjGpD",
        "colab": {
          "base_uri": "https://localhost:8080/"
        },
        "outputId": "e0aa60ec-6e71-41c9-c163-4d98e7b9196c"
      },
      "source": [
        "t.split(' ')"
      ],
      "execution_count": null,
      "outputs": [
        {
          "output_type": "execute_result",
          "data": {
            "text/plain": [
              "['python', 'is', 'easy']"
            ]
          },
          "metadata": {
            "tags": []
          },
          "execution_count": 111
        }
      ]
    },
    {
      "cell_type": "code",
      "metadata": {
        "id": "4nsmOrawjalf",
        "colab": {
          "base_uri": "https://localhost:8080/",
          "height": 35
        },
        "outputId": "f30bb3de-98af-4326-a177-59affb75ddb6"
      },
      "source": [
        "time = '12:30:15'\r\n",
        "time"
      ],
      "execution_count": null,
      "outputs": [
        {
          "output_type": "execute_result",
          "data": {
            "application/vnd.google.colaboratory.intrinsic+json": {
              "type": "string"
            },
            "text/plain": [
              "'12:30:15'"
            ]
          },
          "metadata": {
            "tags": []
          },
          "execution_count": 112
        }
      ]
    },
    {
      "cell_type": "code",
      "metadata": {
        "id": "g7uW5uo3jgWb",
        "colab": {
          "base_uri": "https://localhost:8080/"
        },
        "outputId": "c18d20cd-174e-45fc-c2e8-81fffc9a0040"
      },
      "source": [
        "time.split(':')"
      ],
      "execution_count": null,
      "outputs": [
        {
          "output_type": "execute_result",
          "data": {
            "text/plain": [
              "['12', '30', '15']"
            ]
          },
          "metadata": {
            "tags": []
          },
          "execution_count": 113
        }
      ]
    },
    {
      "cell_type": "code",
      "metadata": {
        "id": "PoiiViIPkfOt",
        "colab": {
          "base_uri": "https://localhost:8080/"
        },
        "outputId": "5dba583c-22f6-4615-ce06-3ffc2b464eed"
      },
      "source": [
        "t_sp = t.split(' ')\r\n",
        "print(t_sp)\r\n",
        "\r\n",
        "## วิธีรวมกลับ\r\n",
        "\r\n",
        "print(':'.join(t_sp))"
      ],
      "execution_count": null,
      "outputs": [
        {
          "output_type": "stream",
          "text": [
            "['python', 'is', 'easy']\n",
            "python:is:easy\n"
          ],
          "name": "stdout"
        }
      ]
    },
    {
      "cell_type": "markdown",
      "metadata": {
        "id": "OxMCdSJwkmet"
      },
      "source": [
        "##HW คำนวณเวลาเป็นวินาทีของเวลาต่อไปนี้โดยใช้คำสั่ง split() ช่วย (print ออกมาให้สวยงาม)\r\n",
        "12:30:15\r\n",
        "\r\n",
        "13:41:07\r\n",
        "\r\n",
        "12:53:15\r\n",
        "\r\n",
        "00:59:25\r\n",
        "\r\n",
        "11:11:11\r\n",
        "\r\n",
        "16:06:09   ---> ส่งพฤก่อนเรียน"
      ]
    },
    {
      "cell_type": "code",
      "metadata": {
        "id": "S2iTJSICyI8j",
        "colab": {
          "base_uri": "https://localhost:8080/"
        },
        "outputId": "968e3142-94fc-4b84-9294-c59bc5f75689"
      },
      "source": [
        "time1 = '12:30:15'\r\n",
        "T1 = time1.split(':')    #['12', '30', '15'] \r\n",
        "H1 = int(T1[0])          #12\r\n",
        "M1 = int(T1[1])          #30\r\n",
        "S1 = int(T1[2])           #15\r\n",
        "Ans1 = H1*3600 + M1*60 + S1 #45015\r\n",
        "print(f' เวลา {time1} มี {Ans1} วินาที ')"
      ],
      "execution_count": 17,
      "outputs": [
        {
          "output_type": "stream",
          "text": [
            " เวลา 12:30:15 มี 45015 วินาที \n"
          ],
          "name": "stdout"
        }
      ]
    },
    {
      "cell_type": "code",
      "metadata": {
        "id": "Un-ziplEbldy",
        "colab": {
          "base_uri": "https://localhost:8080/"
        },
        "outputId": "b650cd44-9520-48f9-e2c0-38318427b01b"
      },
      "source": [
        "time2 = '13:41:07'\r\n",
        "T2 = time2.split(':')  \r\n",
        "H2 = int(T2[0])            \r\n",
        "M2 = int(T2[1])            \r\n",
        "S2 = int(T2[2])             \r\n",
        "Ans2 = H2*3600 + M2*60 + S2 \r\n",
        "print(f' เวลา {time2} มี {Ans2} วินาที ')"
      ],
      "execution_count": 18,
      "outputs": [
        {
          "output_type": "stream",
          "text": [
            " เวลา 13:41:07 มี 49267 วินาที \n"
          ],
          "name": "stdout"
        }
      ]
    },
    {
      "cell_type": "code",
      "metadata": {
        "id": "UQ8i6pYcoM74",
        "colab": {
          "base_uri": "https://localhost:8080/"
        },
        "outputId": "d9020664-fa49-4cc8-93a5-a6a6c10012f2"
      },
      "source": [
        "time3 = '12:53:15'\r\n",
        "T3 = time3.split(':')  \r\n",
        "H3 = int(T3[0])            \r\n",
        "M3 = int(T3[1])            \r\n",
        "S3 = int(T3[2])             \r\n",
        "Ans3 = H3*3600 + M3*60 + S3 \r\n",
        "print(f' เวลา {time3} มี {Ans3} วินาที ')"
      ],
      "execution_count": 19,
      "outputs": [
        {
          "output_type": "stream",
          "text": [
            " เวลา 12:53:15 มี 46395 วินาที \n"
          ],
          "name": "stdout"
        }
      ]
    },
    {
      "cell_type": "code",
      "metadata": {
        "id": "Mqwtco-twvdJ",
        "colab": {
          "base_uri": "https://localhost:8080/"
        },
        "outputId": "5d3a4ab0-9563-43c6-cfbe-09345fd02ec5"
      },
      "source": [
        "time4 = '00:59:25'\r\n",
        "T4 = time4.split(':')  \r\n",
        "H4 = int(T4[0])            \r\n",
        "M4 = int(T4[1])            \r\n",
        "S4 = int(T4[2])             \r\n",
        "Ans4 = H4*3600 + M4*60 + S4\r\n",
        "print(f' เวลา {time4} มี {Ans4} วินาที ')"
      ],
      "execution_count": 20,
      "outputs": [
        {
          "output_type": "stream",
          "text": [
            " เวลา 00:59:25 มี 3565 วินาที \n"
          ],
          "name": "stdout"
        }
      ]
    },
    {
      "cell_type": "code",
      "metadata": {
        "id": "XQklLsklwxCz",
        "colab": {
          "base_uri": "https://localhost:8080/"
        },
        "outputId": "8b5163a6-bc60-4a3f-c3ff-7d9f3e121cb1"
      },
      "source": [
        "time5 = '11:11:11'\r\n",
        "T5 = time5.split(':')  \r\n",
        "H5 = int(T5[0])            \r\n",
        "M5 = int(T5[1])            \r\n",
        "S5 = int(T5[2])             \r\n",
        "Ans5 = H5*3600 + M5*60 + S5 \r\n",
        "print(f' เวลา {time5} มี {Ans5} วินาที ')"
      ],
      "execution_count": 21,
      "outputs": [
        {
          "output_type": "stream",
          "text": [
            " เวลา 11:11:11 มี 40271 วินาที \n"
          ],
          "name": "stdout"
        }
      ]
    },
    {
      "cell_type": "code",
      "metadata": {
        "id": "AvTrqrC_w0YW",
        "colab": {
          "base_uri": "https://localhost:8080/"
        },
        "outputId": "84c37d18-d6a3-4e50-82c0-007d09dfe7d5"
      },
      "source": [
        "time6 = '16:06:09'\r\n",
        "T6 = time6.split(':')  \r\n",
        "H6 = int(T6[0])            \r\n",
        "M6 = int(T6[1])            \r\n",
        "S6 = int(T6[2])             \r\n",
        "Ans6 = H6*3600 + M6*60 + S6\r\n",
        "print(f' เวลา {time6} มี {Ans6} วินาที ')"
      ],
      "execution_count": 22,
      "outputs": [
        {
          "output_type": "stream",
          "text": [
            " เวลา 16:06:09 มี 57969 วินาที \n"
          ],
          "name": "stdout"
        }
      ]
    },
    {
      "cell_type": "markdown",
      "metadata": {
        "id": "bssSPpgK3aWp"
      },
      "source": [
        "สรุปคำตอบ"
      ]
    },
    {
      "cell_type": "code",
      "metadata": {
        "id": "iLCrQHhQ3Z9n",
        "colab": {
          "base_uri": "https://localhost:8080/"
        },
        "outputId": "9edd2804-e5f0-40b9-c851-36d59fc9e61e"
      },
      "source": [
        "print(f'เวลา {time1} มี {Ans1} วินาที \\n\\\r\n",
        "เวลา {time2} มี {Ans2} วินาที  \\n\\\r\n",
        "เวลา {time3} มี {Ans3} วินาที  \\n\\\r\n",
        "เวลา {time4} มี   {Ans4} วินาที \\n\\\r\n",
        "เวลา {time5} มี {Ans5} วินาที \\n\\\r\n",
        "เวลา {time6} มี {Ans6} วินาที')"
      ],
      "execution_count": 8,
      "outputs": [
        {
          "output_type": "stream",
          "text": [
            "เวลา 12:30:15 มี 45015 วินาที \n",
            "เวลา 13:41:07 มี 49267 วินาที  \n",
            "เวลา 12:53:15 มี 46395 วินาที  \n",
            "เวลา 00:59:25 มี   3565 วินาที \n",
            "เวลา 11:11:11 มี 40271 วินาที \n",
            "เวลา 16:06:09 มี 57969 วินาที\n"
          ],
          "name": "stdout"
        }
      ]
    },
    {
      "cell_type": "markdown",
      "metadata": {
        "id": "bOfzUPZJfWjg"
      },
      "source": [
        "##ให้สร้างฟังก์ชั่นคำนวณเวลาเป็นวินาทีของเวลาใดๆ และ print ออกมาให้สวยงาม"
      ]
    },
    {
      "cell_type": "code",
      "metadata": {
        "id": "Un3pQKvag_VL"
      },
      "source": [
        "Ttime = ['12:30:15','13:41:07','12:53:15','00:59:25','11:11:11','16:06:09'] \r\n",
        "\r\n",
        "def print_S(Ttime):\r\n",
        "      T = Ttime.split(':')\r\n",
        "      S = int(T[0])*3600 + int(T[1])*60 + int(T[2])\r\n",
        "      print(f'เวลา {Ttime} มี {S} วินาที')"
      ],
      "execution_count": 77,
      "outputs": []
    },
    {
      "cell_type": "code",
      "metadata": {
        "id": "tevLhiV7mzo6"
      },
      "source": [
        "def print_S(Ttime):\r\n",
        "      T = Ttime.split(':')\r\n",
        "      S = int(T[0])*3600 + int(T[1])*60 + int(T[2])\r\n",
        "      Ans = f'เวลา {Ttime} มี {S} วินาที'\r\n",
        "      print(Ans)"
      ],
      "execution_count": 78,
      "outputs": []
    },
    {
      "cell_type": "code",
      "metadata": {
        "id": "NgJRxpwJjdkD",
        "outputId": "947c3095-a5df-4c57-d1a4-86f6975999ef",
        "colab": {
          "base_uri": "https://localhost:8080/"
        }
      },
      "source": [
        "print_S('12:30:15')\r\n",
        "print_S('13:41:07')\r\n",
        "print_S('12:53:15')\r\n",
        "print_S(Ttime[3])\r\n",
        "print_S(Ttime[4])\r\n",
        "print_S(Ttime[5])"
      ],
      "execution_count": 82,
      "outputs": [
        {
          "output_type": "stream",
          "text": [
            "เวลา 12:30:15 มี 45015 วินาที\n",
            "เวลา 13:41:07 มี 49267 วินาที\n",
            "เวลา 12:53:15 มี 46395 วินาที\n",
            "เวลา 00:59:25 มี 3565 วินาที\n",
            "เวลา 11:11:11 มี 40271 วินาที\n",
            "เวลา 16:06:09 มี 57969 วินาที\n"
          ],
          "name": "stdout"
        }
      ]
    },
    {
      "cell_type": "markdown",
      "metadata": {
        "id": "XBa_K18tffVO"
      },
      "source": [
        "##HW3 ให้ สร้าง list ของ เวลา ['12:30:15','13:41:07',....] แล้ววนลูปเรียกฟังก์ชั่นคำนวณเวลาเป็น วินาที\r\n",
        "\r\n",
        "commit ว่า HW3"
      ]
    },
    {
      "cell_type": "code",
      "metadata": {
        "id": "TpuSSjJxmIy6",
        "outputId": "6ad5bdaa-cb30-4b04-99f8-e8d219c25019",
        "colab": {
          "base_uri": "https://localhost:8080/"
        }
      },
      "source": [
        "Ttime = ['12:30:15','13:41:07','12:53:15','00:59:25','11:11:11','16:06:09']  #list\r\n",
        "\r\n",
        "for i in Ttime:\r\n",
        "  print(f'เวลา {i} มี {TAns(i)} วินาที')"
      ],
      "execution_count": 99,
      "outputs": [
        {
          "output_type": "stream",
          "text": [
            "เวลา 12:30:15 มี 45015 วินาที\n",
            "เวลา 13:41:07 มี 49267 วินาที\n",
            "เวลา 12:53:15 มี 46395 วินาที\n",
            "เวลา 00:59:25 มี 3565 วินาที\n",
            "เวลา 11:11:11 มี 40271 วินาที\n",
            "เวลา 16:06:09 มี 57969 วินาที\n"
          ],
          "name": "stdout"
        }
      ]
    }
  ]
}