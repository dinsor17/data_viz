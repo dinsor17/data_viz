{
  "nbformat": 4,
  "nbformat_minor": 0,
  "metadata": {
    "colab": {
      "name": "python101.ipynb",
      "provenance": [],
      "authorship_tag": "ABX9TyOe8D0jCw3DmKrMFjimJiAL",
      "include_colab_link": true
    },
    "kernelspec": {
      "name": "python3",
      "display_name": "Python 3"
    }
  },
  "cells": [
    {
      "cell_type": "markdown",
      "metadata": {
        "id": "view-in-github",
        "colab_type": "text"
      },
      "source": [
        "<a href=\"https://colab.research.google.com/github/dinsor17/data_viz/blob/main/python101.ipynb\" target=\"_parent\"><img src=\"https://colab.research.google.com/assets/colab-badge.svg\" alt=\"Open In Colab\"/></a>"
      ]
    },
    {
      "cell_type": "markdown",
      "metadata": {
        "id": "fpdZnWfNNpHM"
      },
      "source": [
        "##Variables"
      ]
    },
    {
      "cell_type": "code",
      "metadata": {
        "colab": {
          "base_uri": "https://localhost:8080/"
        },
        "id": "fLYwRyD3M5Eh",
        "outputId": "38339e3f-14d9-4e3a-804d-6854711adaf2"
      },
      "source": [
        "3.14159265359"
      ],
      "execution_count": 67,
      "outputs": [
        {
          "output_type": "execute_result",
          "data": {
            "text/plain": [
              "3.14159265359"
            ]
          },
          "metadata": {
            "tags": []
          },
          "execution_count": 67
        }
      ]
    },
    {
      "cell_type": "markdown",
      "metadata": {
        "id": "pCGh0pPrOAAA"
      },
      "source": [
        "หลักการตั้งชื่อตัวแปรเบื้องต้น\r\n",
        "1. ตั้งให้สื่อ\r\n",
        "2. ภาษาอังกฤษ\r\n",
        "3. ใช้ตัวเลขได้แต่ห้ามขึ้นต้นด้วยตัวเลข\r\n",
        "4. ห้ามเว้นวรรค"
      ]
    },
    {
      "cell_type": "code",
      "metadata": {
        "id": "v4zNZysUOtmK"
      },
      "source": [
        "pi = 3.14159265359"
      ],
      "execution_count": 68,
      "outputs": []
    },
    {
      "cell_type": "code",
      "metadata": {
        "colab": {
          "base_uri": "https://localhost:8080/"
        },
        "id": "9pJAcM4XO4nc",
        "outputId": "e9ede13e-41c9-488c-972f-cc88c81dd0d5"
      },
      "source": [
        "pi"
      ],
      "execution_count": 69,
      "outputs": [
        {
          "output_type": "execute_result",
          "data": {
            "text/plain": [
              "3.14159265359"
            ]
          },
          "metadata": {
            "tags": []
          },
          "execution_count": 69
        }
      ]
    },
    {
      "cell_type": "markdown",
      "metadata": {
        "id": "F_bQa6HKPLeE"
      },
      "source": [
        "###int : จำนวนเต็ม"
      ]
    },
    {
      "cell_type": "code",
      "metadata": {
        "id": "yzc_PTNvojJw"
      },
      "source": [
        "a = 10"
      ],
      "execution_count": 70,
      "outputs": []
    },
    {
      "cell_type": "code",
      "metadata": {
        "colab": {
          "base_uri": "https://localhost:8080/"
        },
        "id": "Znj8-jYVokgu",
        "outputId": "8a800bbc-2de0-43a0-d9a3-894ed6fa1ff1"
      },
      "source": [
        "print(a)"
      ],
      "execution_count": 71,
      "outputs": [
        {
          "output_type": "stream",
          "text": [
            "10\n"
          ],
          "name": "stdout"
        }
      ]
    },
    {
      "cell_type": "markdown",
      "metadata": {
        "id": "vflxfaeUO_B1"
      },
      "source": [
        "###float : จำนวนจริง (ทศนิยม)"
      ]
    },
    {
      "cell_type": "code",
      "metadata": {
        "colab": {
          "base_uri": "https://localhost:8080/"
        },
        "id": "0r8nhK-lPKCJ",
        "outputId": "63915267-95d8-4a72-fe70-036990b0c8f2"
      },
      "source": [
        "b = 10.\r\n",
        "print(b)"
      ],
      "execution_count": 72,
      "outputs": [
        {
          "output_type": "stream",
          "text": [
            "10.0\n"
          ],
          "name": "stdout"
        }
      ]
    },
    {
      "cell_type": "markdown",
      "metadata": {
        "id": "66wGSa_VPoMh"
      },
      "source": [
        "###ตัวอักษร (char(character)) ข้อความ (text หรือ string)"
      ]
    },
    {
      "cell_type": "markdown",
      "metadata": {
        "id": "C7cN2wQKPsNQ"
      },
      "source": [
        "-> # hashtag, sharp ใช้สำหรับคอมเม้น"
      ]
    },
    {
      "cell_type": "code",
      "metadata": {
        "colab": {
          "base_uri": "https://localhost:8080/"
        },
        "id": "iHuadNLTPfRb",
        "outputId": "1278593e-ed3e-42e3-e149-fe2aef8e2fcc"
      },
      "source": [
        "c = 'WEBTOON' #เราจะบอกว่าตัวแปรเป็นตัวอักษรหรือข้อความโดยการใช้ single quote ' หรือ double \" ล้อมรอบ\r\n",
        "print(c)"
      ],
      "execution_count": 73,
      "outputs": [
        {
          "output_type": "stream",
          "text": [
            "WEBTOON\n"
          ],
          "name": "stdout"
        }
      ]
    },
    {
      "cell_type": "markdown",
      "metadata": {
        "id": "FgeVAH_HRBNG"
      },
      "source": [
        "###ตัวเลขที่เป็น string ไม่สามารถเอามา +,- x / กับตัวเลขได้"
      ]
    },
    {
      "cell_type": "code",
      "metadata": {
        "colab": {
          "base_uri": "https://localhost:8080/"
        },
        "id": "hriKafJMPm9w",
        "outputId": "db0ab036-95c7-440b-a4b6-42bd9f670f85"
      },
      "source": [
        "d = '10'\r\n",
        "print(d)"
      ],
      "execution_count": 74,
      "outputs": [
        {
          "output_type": "stream",
          "text": [
            "10\n"
          ],
          "name": "stdout"
        }
      ]
    },
    {
      "cell_type": "code",
      "metadata": {
        "colab": {
          "base_uri": "https://localhost:8080/",
          "height": 167
        },
        "id": "tHdwG5bvQ6Tp",
        "outputId": "b1dbf390-7191-4d49-8a65-3a79d21be2ed"
      },
      "source": [
        "d + 1 #Errorเพราะตัวอักษร+ตัวเลขไม่ได้"
      ],
      "execution_count": 75,
      "outputs": [
        {
          "output_type": "error",
          "ename": "TypeError",
          "evalue": "ignored",
          "traceback": [
            "\u001b[0;31m---------------------------------------------------------------------------\u001b[0m",
            "\u001b[0;31mTypeError\u001b[0m                                 Traceback (most recent call last)",
            "\u001b[0;32m<ipython-input-75-facdcfd96c5b>\u001b[0m in \u001b[0;36m<module>\u001b[0;34m()\u001b[0m\n\u001b[0;32m----> 1\u001b[0;31m \u001b[0md\u001b[0m \u001b[0;34m+\u001b[0m \u001b[0;36m1\u001b[0m \u001b[0;31m#Errorเพราะตัวอักษร+ตัวเลขไม่ได้\u001b[0m\u001b[0;34m\u001b[0m\u001b[0;34m\u001b[0m\u001b[0m\n\u001b[0m",
            "\u001b[0;31mTypeError\u001b[0m: must be str, not int"
          ]
        }
      ]
    },
    {
      "cell_type": "markdown",
      "metadata": {
        "id": "-cqJ_wRaRpWr"
      },
      "source": [
        "###variable casting (การเปลี่ยนชนิดของข้อมูล)"
      ]
    },
    {
      "cell_type": "code",
      "metadata": {
        "id": "fhP1RgPFR_2l"
      },
      "source": [
        "int(d) + 1"
      ],
      "execution_count": null,
      "outputs": []
    },
    {
      "cell_type": "code",
      "metadata": {
        "id": "op9AP87ESMFY"
      },
      "source": [
        "print(a)\r\n",
        "print(float(a))\r\n",
        "print(str(a))"
      ],
      "execution_count": null,
      "outputs": []
    },
    {
      "cell_type": "markdown",
      "metadata": {
        "id": "WXFDHm8ySclg"
      },
      "source": [
        "#Operation (Operators +,-,*,/,%)"
      ]
    },
    {
      "cell_type": "code",
      "metadata": {
        "id": "o-kDnCrPSsmo"
      },
      "source": [
        "a+b"
      ],
      "execution_count": null,
      "outputs": []
    },
    {
      "cell_type": "code",
      "metadata": {
        "id": "DGZ4kM8ZSv1A"
      },
      "source": [
        "ab = a+b\r\n",
        "print(ab)"
      ],
      "execution_count": null,
      "outputs": []
    },
    {
      "cell_type": "markdown",
      "metadata": {
        "id": "z-Blu3e0S-n5"
      },
      "source": [
        "###% คือเครื่องหมาย modulo"
      ]
    },
    {
      "cell_type": "code",
      "metadata": {
        "id": "ZYqR3hilS3KV"
      },
      "source": [
        "5%3"
      ],
      "execution_count": null,
      "outputs": []
    },
    {
      "cell_type": "code",
      "metadata": {
        "id": "kh-1HeGrTJL-"
      },
      "source": [
        "7%3"
      ],
      "execution_count": null,
      "outputs": []
    },
    {
      "cell_type": "markdown",
      "metadata": {
        "id": "D-NI28jOTUpb"
      },
      "source": [
        "###คำสั่ง print แบบพิเศษ (การ format string)"
      ]
    },
    {
      "cell_type": "code",
      "metadata": {
        "id": "i5Ugw1X_TL73"
      },
      "source": [
        "print('ตัวแปร') #สิ่งที่อยู่ข้างในวงเล็บคือ ตัวแปร และ string"
      ],
      "execution_count": null,
      "outputs": []
    },
    {
      "cell_type": "code",
      "metadata": {
        "id": "Rb8VpvgFT1WA"
      },
      "source": [
        "print(f'% คือการหารเอาเศษ เช่น 7%3 = {7%3}') # เพิ่ม f หน้า 'string' และใช้ {} ใสโค้ด"
      ],
      "execution_count": null,
      "outputs": []
    },
    {
      "cell_type": "code",
      "metadata": {
        "id": "K3LRumSwUcqH"
      },
      "source": [
        "print(f'% คือการหารเอาเศษ เช่น 7%3 = {7%3} แต่ \\n/ คือการหารปกติ เช่น 7/3 = {7/3}') # \\n คือการขึ้นบรรทัดใหม่"
      ],
      "execution_count": null,
      "outputs": []
    },
    {
      "cell_type": "markdown",
      "metadata": {
        "id": "0LWc-_cCXN7q"
      },
      "source": [
        "##โจทย์ เพิ่มอีกบรรทัด แสดงวิธีการหารเอาส่วน"
      ]
    },
    {
      "cell_type": "code",
      "metadata": {
        "id": "HXOvRzc7Zfs4"
      },
      "source": [
        "print(f'% คือการหารเอาเศษ เช่น 7%3 = {7%3} \\\\\r\n",
        "        แต่\\n/ คือการหารปกติ เช่น 7/3 = {7/3}  \\\\\r\n",
        "        และ\\n// คือการหารเอาส่วน เช่น 7//3 = {7//3} \\\\\r\n",
        "        หรือ\\nใช้ int() เพื่อหารเอาส่วน เช่น int(7/3) = {int(7/3)}') # \\n คือการขึ้นบรรทัดใหม่ \\\\ ใช้ในการตัด code แต่ com จะไม่เห็น"
      ],
      "execution_count": null,
      "outputs": []
    },
    {
      "cell_type": "markdown",
      "metadata": {
        "id": "kc-i4w_Ap_o4"
      },
      "source": [
        "##DATA STRUCTURE (โครงสร้างข้อมูล)\r\n",
        "###List คือ การเอาตัวแปรหลายๆตัวมาเรียงกัน\r\n",
        "list สามารถสร้างได้ 2แบบ ดังนี้"
      ]
    },
    {
      "cell_type": "markdown",
      "metadata": {
        "id": "1iGxfzJla29Z"
      },
      "source": [
        "แบบที่ 1 > square brackets"
      ]
    },
    {
      "cell_type": "code",
      "metadata": {
        "id": "8fxEG2uKZuNI"
      },
      "source": [
        "list_a = []\r\n",
        "print(list_a)"
      ],
      "execution_count": null,
      "outputs": []
    },
    {
      "cell_type": "code",
      "metadata": {
        "id": "JG3uYMozbD7V"
      },
      "source": [
        "list_b = [1,5,'v']\r\n",
        "print(list_b)"
      ],
      "execution_count": null,
      "outputs": []
    },
    {
      "cell_type": "markdown",
      "metadata": {
        "id": "4fOzZBy6bVb0"
      },
      "source": [
        "ลำดับที่อยู่ใน list มีความสำคัญ (ลำดับใน list เริ่มจาก 0,1,2,...)"
      ]
    },
    {
      "cell_type": "code",
      "metadata": {
        "id": "cBFqZ_zQbRCQ"
      },
      "source": [
        "list_b[1]"
      ],
      "execution_count": null,
      "outputs": []
    },
    {
      "cell_type": "markdown",
      "metadata": {
        "id": "VV4_xLrUbvdI"
      },
      "source": [
        "แบบที่ 2"
      ]
    },
    {
      "cell_type": "code",
      "metadata": {
        "id": "9RDffyFgbxv_"
      },
      "source": [
        "list_c = list()\r\n",
        "print(list_c)"
      ],
      "execution_count": null,
      "outputs": []
    },
    {
      "cell_type": "markdown",
      "metadata": {
        "id": "KIwCk4WDcMyC"
      },
      "source": [
        "##append() เพิ่มสมาชิกใน list"
      ]
    },
    {
      "cell_type": "code",
      "metadata": {
        "id": "lMSycmiMcKDZ"
      },
      "source": [
        "list_b.append('u')\r\n",
        "print(list_b)"
      ],
      "execution_count": null,
      "outputs": []
    },
    {
      "cell_type": "code",
      "metadata": {
        "id": "LOYXPtsgce5I"
      },
      "source": [
        "list_b.pop() ### ดึงสมาชิกตัวสุดท้ายออกจาก list"
      ],
      "execution_count": null,
      "outputs": []
    },
    {
      "cell_type": "code",
      "metadata": {
        "id": "p6vx-JAJcxr2"
      },
      "source": [
        "list_b"
      ],
      "execution_count": null,
      "outputs": []
    },
    {
      "cell_type": "code",
      "metadata": {
        "id": "9i6FBg1gc0tr"
      },
      "source": [
        "list_b.append(list_a)\r\n",
        "print(list_b)"
      ],
      "execution_count": null,
      "outputs": []
    },
    {
      "cell_type": "markdown",
      "metadata": {
        "id": "T02Te8utdGo-"
      },
      "source": [
        "##String > list of characters"
      ]
    },
    {
      "cell_type": "code",
      "metadata": {
        "id": "uSmxLfxYdRCm"
      },
      "source": [
        "t = 'python is easy'\r\n",
        "t"
      ],
      "execution_count": null,
      "outputs": []
    },
    {
      "cell_type": "code",
      "metadata": {
        "id": "GSAnHTa5dkYI"
      },
      "source": [
        "len(list_b) # len คือคำสั่งตรวจสอบความยาวของ list (จำนวนสมาชิก)"
      ],
      "execution_count": null,
      "outputs": []
    },
    {
      "cell_type": "code",
      "metadata": {
        "id": "GFy77idceDWI"
      },
      "source": [
        "len(t)"
      ],
      "execution_count": null,
      "outputs": []
    },
    {
      "cell_type": "markdown",
      "metadata": {
        "id": "ZC0xoS_reH47"
      },
      "source": [
        "###access a member of a list (list&string)\r\n",
        "โดยการเริ่มนับจะเริ่มนับจาก 0\r\n",
        "\r\n",
        "0 คือ สมาชิกตัวแรก , -1 คือสมาชิกตัวสุดท้าย\r\n"
      ]
    },
    {
      "cell_type": "code",
      "metadata": {
        "id": "CE64Xo8ie3vR"
      },
      "source": [
        "t[1]"
      ],
      "execution_count": null,
      "outputs": []
    },
    {
      "cell_type": "code",
      "metadata": {
        "id": "Tz0xwHjFe703"
      },
      "source": [
        "t[-1]"
      ],
      "execution_count": null,
      "outputs": []
    },
    {
      "cell_type": "code",
      "metadata": {
        "id": "rWpFhySmfWbI"
      },
      "source": [
        "t[-3]"
      ],
      "execution_count": null,
      "outputs": []
    },
    {
      "cell_type": "code",
      "metadata": {
        "id": "_4HIVg7Efd5H"
      },
      "source": [
        "t[-5]"
      ],
      "execution_count": null,
      "outputs": []
    },
    {
      "cell_type": "markdown",
      "metadata": {
        "id": "Fw8U3HlEflQy"
      },
      "source": [
        "###ตัวที่อยู่ข้างใน [ ] เราเรียกว่า index (ตัวชี้)\r\n",
        " List slicing สามารถทำได้โดยใช้ colon : [a:b] -> [a,b) "
      ]
    },
    {
      "cell_type": "code",
      "metadata": {
        "id": "6WDQYRPefkxz"
      },
      "source": [
        "print(t)\r\n",
        "print(t[7:9])"
      ],
      "execution_count": null,
      "outputs": []
    },
    {
      "cell_type": "markdown",
      "metadata": {
        "id": "uBBww9nmhDUG"
      },
      "source": [
        "ถ้าเว้นว่างหน้า : หมายความว่า  เริ่มตั้งแต่ตัวแรก\r\n",
        "\r\n",
        "ถ้าเว้นว่างหลัง : หมายความว่า ไปจนถึงตัวสุดท้าย"
      ]
    },
    {
      "cell_type": "code",
      "metadata": {
        "id": "yX_WQvjbg7N7"
      },
      "source": [
        "print(t)\r\n",
        "print(t[:6])\r\n",
        "print(t[10:])\r\n",
        "print(t[-4:])\r\n",
        "print(t[:])"
      ],
      "execution_count": null,
      "outputs": []
    },
    {
      "cell_type": "markdown",
      "metadata": {
        "id": "nMNuzTQAiPmS"
      },
      "source": [
        "#### เราสามารถเอา list มาต่อกันได้ด้วย +"
      ]
    },
    {
      "cell_type": "code",
      "metadata": {
        "id": "3O3aSo5-iYpo"
      },
      "source": [
        "t + '??'"
      ],
      "execution_count": null,
      "outputs": []
    },
    {
      "cell_type": "code",
      "metadata": {
        "id": "_UJXz5t4qkRx"
      },
      "source": [
        "t + list_b ## ไม่สามารถเอา list ปกติมาต่อกับ string ได้"
      ],
      "execution_count": null,
      "outputs": []
    },
    {
      "cell_type": "code",
      "metadata": {
        "id": "z3iOBBwmig-8"
      },
      "source": [
        "list_b + list_b"
      ],
      "execution_count": null,
      "outputs": []
    },
    {
      "cell_type": "code",
      "metadata": {
        "id": "5eAhx04EjEDq"
      },
      "source": [
        "list_b + list_a"
      ],
      "execution_count": null,
      "outputs": []
    },
    {
      "cell_type": "markdown",
      "metadata": {
        "id": "Cq6ZZ9FkjHEs"
      },
      "source": [
        "####การแบ่ง string ตามสัญลักษณ์ที่กำหนด -> split string"
      ]
    },
    {
      "cell_type": "code",
      "metadata": {
        "id": "nw7_h2lCjGpD"
      },
      "source": [
        "t.split(' ')"
      ],
      "execution_count": null,
      "outputs": []
    },
    {
      "cell_type": "code",
      "metadata": {
        "id": "4nsmOrawjalf"
      },
      "source": [
        "time = '12:30:15'\r\n",
        "time"
      ],
      "execution_count": null,
      "outputs": []
    },
    {
      "cell_type": "code",
      "metadata": {
        "id": "g7uW5uo3jgWb"
      },
      "source": [
        "time.split(':')"
      ],
      "execution_count": null,
      "outputs": []
    },
    {
      "cell_type": "code",
      "metadata": {
        "id": "PoiiViIPkfOt"
      },
      "source": [
        "t_sp = t.split(' ')\r\n",
        "print(t_sp)\r\n",
        "\r\n",
        "## วิธีรวมกลับ\r\n",
        "\r\n",
        "print(':'.join(t_sp))"
      ],
      "execution_count": null,
      "outputs": []
    },
    {
      "cell_type": "markdown",
      "metadata": {
        "id": "OxMCdSJwkmet"
      },
      "source": [
        "##HW คำนวณเวลาเป็นวินาทีของเวลาต่อไปนี้โดยใช้คำสั่ง split() ช่วย (print ออกมาให้สวยงาม)\r\n",
        "12:30:15\r\n",
        "\r\n",
        "13:41:07\r\n",
        "\r\n",
        "12:53:15\r\n",
        "\r\n",
        "00:59:25\r\n",
        "\r\n",
        "11:11:11\r\n",
        "\r\n",
        "16:06:09   ---> ส่งพฤก่อนเรียน"
      ]
    },
    {
      "cell_type": "code",
      "metadata": {
        "id": "S2iTJSICyI8j"
      },
      "source": [
        "time1 = '12:30:15'\r\n",
        "T1 = time1.split(':')    #['12', '30', '15'] \r\n",
        "H1 = int(T1[0])          #12\r\n",
        "M1 = int(T1[1])          #30\r\n",
        "S1 = int(T1[2])           #15\r\n",
        "Ans1 = H1*3600 + M1*60 + S1 #45015\r\n",
        "print(f' เวลา {time1} มี {Ans1} วินาที ')"
      ],
      "execution_count": null,
      "outputs": []
    },
    {
      "cell_type": "code",
      "metadata": {
        "id": "Un-ziplEbldy"
      },
      "source": [
        "time2 = '13:41:07'\r\n",
        "T2 = time2.split(':')  \r\n",
        "H2 = int(T2[0])            \r\n",
        "M2 = int(T2[1])            \r\n",
        "S2 = int(T2[2])             \r\n",
        "Ans2 = H2*3600 + M2*60 + S2 \r\n",
        "print(f' เวลา {time2} มี {Ans2} วินาที ')"
      ],
      "execution_count": null,
      "outputs": []
    },
    {
      "cell_type": "code",
      "metadata": {
        "id": "UQ8i6pYcoM74"
      },
      "source": [
        "time3 = '12:53:15'\r\n",
        "T3 = time3.split(':')  \r\n",
        "H3 = int(T3[0])            \r\n",
        "M3 = int(T3[1])            \r\n",
        "S3 = int(T3[2])             \r\n",
        "Ans3 = H3*3600 + M3*60 + S3 \r\n",
        "print(f' เวลา {time3} มี {Ans3} วินาที ')"
      ],
      "execution_count": null,
      "outputs": []
    },
    {
      "cell_type": "code",
      "metadata": {
        "id": "Mqwtco-twvdJ"
      },
      "source": [
        "time4 = '00:59:25'\r\n",
        "T4 = time4.split(':')  \r\n",
        "H4 = int(T4[0])            \r\n",
        "M4 = int(T4[1])            \r\n",
        "S4 = int(T4[2])             \r\n",
        "Ans4 = H4*3600 + M4*60 + S4\r\n",
        "print(f' เวลา {time4} มี {Ans4} วินาที ')"
      ],
      "execution_count": null,
      "outputs": []
    },
    {
      "cell_type": "code",
      "metadata": {
        "id": "XQklLsklwxCz"
      },
      "source": [
        "time5 = '11:11:11'\r\n",
        "T5 = time5.split(':')  \r\n",
        "H5 = int(T5[0])            \r\n",
        "M5 = int(T5[1])            \r\n",
        "S5 = int(T5[2])             \r\n",
        "Ans5 = H5*3600 + M5*60 + S5 \r\n",
        "print(f' เวลา {time5} มี {Ans5} วินาที ')"
      ],
      "execution_count": null,
      "outputs": []
    },
    {
      "cell_type": "code",
      "metadata": {
        "id": "AvTrqrC_w0YW"
      },
      "source": [
        "time6 = '16:06:09'\r\n",
        "T6 = time6.split(':')  \r\n",
        "H6 = int(T6[0])            \r\n",
        "M6 = int(T6[1])            \r\n",
        "S6 = int(T6[2])             \r\n",
        "Ans6 = H6*3600 + M6*60 + S6\r\n",
        "print(f' เวลา {time6} มี {Ans6} วินาที ')"
      ],
      "execution_count": null,
      "outputs": []
    },
    {
      "cell_type": "markdown",
      "metadata": {
        "id": "bssSPpgK3aWp"
      },
      "source": [
        "สรุปคำตอบ"
      ]
    },
    {
      "cell_type": "code",
      "metadata": {
        "id": "iLCrQHhQ3Z9n"
      },
      "source": [
        "print(f'เวลา {time1} มี {Ans1} วินาที \\n\\\r\n",
        "เวลา {time2} มี {Ans2} วินาที  \\n\\\r\n",
        "เวลา {time3} มี {Ans3} วินาที  \\n\\\r\n",
        "เวลา {time4} มี   {Ans4} วินาที \\n\\\r\n",
        "เวลา {time5} มี {Ans5} วินาที \\n\\\r\n",
        "เวลา {time6} มี {Ans6} วินาที')"
      ],
      "execution_count": null,
      "outputs": []
    },
    {
      "cell_type": "code",
      "metadata": {
        "id": "UT7vbjef5m6y"
      },
      "source": [
        "#อันนี้แอบส่องเพื่อนมาค่ะ55 เห็นเท่ดี เลยอยากเก็บไว้\r\n",
        "def cal_Ans(i):\r\n",
        "  x = i.split(':')\r\n",
        "  Ans = int(x[0])*3600+int(x[1])*60+int(x[2])\r\n",
        "  return Ans\r\n",
        "  Ttime = ['12:30:15','13:41:07','12:53:15','00:59:25','11:11:11','16:06:09']\r\n",
        "for j in Ttime:\r\n",
        "  print(f'เวลา {j} มี {cal_Ans(j)} วินาที')"
      ],
      "execution_count": null,
      "outputs": []
    }
  ]
}