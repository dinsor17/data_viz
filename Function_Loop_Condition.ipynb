{
  "nbformat": 4,
  "nbformat_minor": 0,
  "metadata": {
    "colab": {
      "name": "Function_Loop_Condition.ipynb",
      "provenance": [],
      "authorship_tag": "ABX9TyMjFUdgVBO09eUH0noGgnbS",
      "include_colab_link": true
    },
    "kernelspec": {
      "name": "python3",
      "display_name": "Python 3"
    }
  },
  "cells": [
    {
      "cell_type": "markdown",
      "metadata": {
        "id": "view-in-github",
        "colab_type": "text"
      },
      "source": [
        "<a href=\"https://colab.research.google.com/github/dinsor17/data_viz/blob/main/Function_Loop_Condition.ipynb\" target=\"_parent\"><img src=\"https://colab.research.google.com/assets/colab-badge.svg\" alt=\"Open In Colab\"/></a>"
      ]
    },
    {
      "cell_type": "code",
      "metadata": {
        "colab": {
          "base_uri": "https://localhost:8080/"
        },
        "id": "rrTh52LeSpl0",
        "outputId": "334336e2-ce40-4385-d1b2-57db6132d67f"
      },
      "source": [
        "name = 'นารินทร์'\r\n",
        "surname = 'แสงพระจันทร์'\r\n",
        "ID = '613020614-0'\r\n",
        "\r\n",
        "k= f'ชื่อ {name} นามสกุล {surname} รหัส {ID}'\r\n",
        "print(k)"
      ],
      "execution_count": null,
      "outputs": [
        {
          "output_type": "stream",
          "text": [
            "ชื่อ นารินทร์ นามสกุล แสงพระจันทร์ รหัส 613020614-0\n"
          ],
          "name": "stdout"
        }
      ]
    },
    {
      "cell_type": "markdown",
      "metadata": {
        "id": "zAbgZRnbXrgc"
      },
      "source": [
        "# Function"
      ]
    },
    {
      "cell_type": "markdown",
      "metadata": {
        "id": "DDYohXTu51qV"
      },
      "source": [
        "## Function template \r\n",
        "#### ทำหน้าที่รับ input มาประมวณผลออกมาเป็น output\r\n",
        "#### f(x) = y"
      ]
    },
    {
      "cell_type": "markdown",
      "metadata": {
        "id": "tbaFcnMwTHxq"
      },
      "source": [
        "###def คือการกำหนดฟังก์ชัน"
      ]
    },
    {
      "cell_type": "markdown",
      "metadata": {
        "id": "JgCUoZDsTBmZ"
      },
      "source": [
        "backtick (`) ==> กด ~ ค้าง, alt - 9>6 (full keyboard with number)\r\n",
        "\r\n",
        "tilde (~)\r\n",
        "\r\n",
        "curly bracket ({ })\r\n",
        "\r\n",
        "square bracket ([ ])"
      ]
    },
    {
      "cell_type": "markdown",
      "metadata": {
        "id": "SwS9cePyTSH8"
      },
      "source": [
        "```python\r\n",
        "    def function_name(_Input_) :\r\n",
        "        do_something with _Input_ to get _Output_\r\n",
        "        return _Output_\r\n",
        "```"
      ]
    },
    {
      "cell_type": "markdown",
      "metadata": {
        "id": "fYCR9gxY6PCb"
      },
      "source": [
        "function มีส่วนสำคัญทั้งหมด 4 ส่วน\r\n",
        "\r\n",
        "1.   บอก python ว่าเราจะเขียนฟังก์ชั่น ชื่ออะไร  ```def function_name():``` (ขาดไม่ได้)\r\n",
        "2.   กำหนดตัวแปรที่จะเป็น input  ```_Input_``` (ขาดได้)\r\n",
        "3.   ส่วนประมวลผล ```do_something with _Input_ to get _Output_``` (ขาดไม่ได้)\r\n",
        "4.   ส่วน output ```return _Output_```(ขาดได้)"
      ]
    },
    {
      "cell_type": "markdown",
      "metadata": {
        "id": "JNGgLjeFny0F"
      },
      "source": [
        "####ตย.การเขียน normal function"
      ]
    },
    {
      "cell_type": "code",
      "metadata": {
        "id": "i_uy7Lbdkn-t"
      },
      "source": [
        "def print_name(surname,ID,name) :\r\n",
        "      st = f'ชื่อ {name} นามสกุล {surname} รหัส {ID}'\r\n",
        "      return st"
      ],
      "execution_count": null,
      "outputs": []
    },
    {
      "cell_type": "code",
      "metadata": {
        "colab": {
          "base_uri": "https://localhost:8080/",
          "height": 35
        },
        "id": "tnJC8MLClNUC",
        "outputId": "a56291ee-0a65-4fdc-aaf0-fe5f5fb75808"
      },
      "source": [
        "print_name('แสงพระจันทร์','613020614-0','นารินทร์')"
      ],
      "execution_count": null,
      "outputs": [
        {
          "output_type": "execute_result",
          "data": {
            "application/vnd.google.colaboratory.intrinsic+json": {
              "type": "string"
            },
            "text/plain": [
              "'ชื่อ นารินทร์ นามสกุล แสงพระจันทร์ รหัส 613020614-0'"
            ]
          },
          "metadata": {
            "tags": []
          },
          "execution_count": 38
        }
      ]
    },
    {
      "cell_type": "code",
      "metadata": {
        "colab": {
          "base_uri": "https://localhost:8080/"
        },
        "id": "QOvwFZPnoF9k",
        "outputId": "2c6df599-ab03-4979-f2d8-7f5ceded8629"
      },
      "source": [
        "print(print_name(surname = 'แสงพระจันทร์',name = 'นารินทร์',ID = '613020614-0'))"
      ],
      "execution_count": null,
      "outputs": [
        {
          "output_type": "stream",
          "text": [
            "ชื่อ นารินทร์ นามสกุล แสงพระจันทร์ รหัส 613020614-0\n"
          ],
          "name": "stdout"
        }
      ]
    },
    {
      "cell_type": "markdown",
      "metadata": {
        "id": "9BLLoZsQpXEx"
      },
      "source": [
        "เราใช้ เว้นวรรค (indent) เพื่อบอกขอบเขตของโปรแกรม"
      ]
    },
    {
      "cell_type": "code",
      "metadata": {
        "id": "E8BZF36opH8m"
      },
      "source": [
        "def print_name2(surname,ID,name) :\r\n",
        "      st = f'ชื่อ {name} นามสกุล {surname} รหัส {ID}'\r\n",
        "      return (st)"
      ],
      "execution_count": null,
      "outputs": []
    },
    {
      "cell_type": "code",
      "metadata": {
        "colab": {
          "base_uri": "https://localhost:8080/",
          "height": 35
        },
        "id": "dQvVJ5JZpvE-",
        "outputId": "bce3fa82-bd75-4d88-a7e4-3aeffcd015ee"
      },
      "source": [
        "print_name2(surname = 'แสงพระจันทร์',name = 'นารินทร์',ID = '613020614-0')"
      ],
      "execution_count": null,
      "outputs": [
        {
          "output_type": "execute_result",
          "data": {
            "application/vnd.google.colaboratory.intrinsic+json": {
              "type": "string"
            },
            "text/plain": [
              "'ชื่อ นารินทร์ นามสกุล แสงพระจันทร์ รหัส 613020614-0'"
            ]
          },
          "metadata": {
            "tags": []
          },
          "execution_count": 41
        }
      ]
    },
    {
      "cell_type": "markdown",
      "metadata": {
        "id": "LcJIRkC5qgZz"
      },
      "source": [
        "ฟังก์ชั่นไม่จำเป็นต้องมี input"
      ]
    },
    {
      "cell_type": "code",
      "metadata": {
        "id": "zJa8IPUIqgAd"
      },
      "source": [
        "def Pi() :\r\n",
        "      return 3.14159265359"
      ],
      "execution_count": null,
      "outputs": []
    },
    {
      "cell_type": "code",
      "metadata": {
        "colab": {
          "base_uri": "https://localhost:8080/"
        },
        "id": "wElMzyinq-2M",
        "outputId": "1bafd80e-a252-41cb-da30-a7383792fa95"
      },
      "source": [
        "Pi()*(2**2) #หาพท.วงกลมที่มีรัศมีเท่ากับ Pi * r^2   ปล. ** คือยกกำลัง"
      ],
      "execution_count": null,
      "outputs": [
        {
          "output_type": "execute_result",
          "data": {
            "text/plain": [
              "12.56637061436"
            ]
          },
          "metadata": {
            "tags": []
          },
          "execution_count": 43
        }
      ]
    },
    {
      "cell_type": "markdown",
      "metadata": {
        "id": "_i-wm8TMY9hd"
      },
      "source": [
        "## เราสามารถกำหนดค่า default ให้กับฟังก์ชั่นได้"
      ]
    },
    {
      "cell_type": "markdown",
      "metadata": {
        "id": "afcBrFKTZBQV"
      },
      "source": [
        "input ของ function ใน python มีสองแบบ input ที่จำเป็นต้องใส่ กับ input ที่ไม่จำเป็นต้องใส่ (มีค่า default)\r\n",
        "\r\n",
        "เราต้องเรียง input ที่จำเป็นต้องใส่ขึ้นก่อน"
      ]
    },
    {
      "cell_type": "code",
      "metadata": {
        "id": "3EvoR682r4EK"
      },
      "source": [
        "def print_2lines_default(name,surname,ID,grade='F'):\r\n",
        "    st = f'ชื่อ {name} นามสกุล {surname} รหัส {ID}'\r\n",
        "    print (st)\r\n",
        "    st2=f'เกรดวิชา Data Viz >>> {grade}'\r\n",
        "    print(st2)\r\n"
      ],
      "execution_count": null,
      "outputs": []
    },
    {
      "cell_type": "code",
      "metadata": {
        "colab": {
          "base_uri": "https://localhost:8080/"
        },
        "id": "WQ9A6uW11mXx",
        "outputId": "84ae0829-5500-4203-9706-d57c4ffe17db"
      },
      "source": [
        "print_2lines_default('นารินทร์','แสงพระจันทร์','613020614-0')"
      ],
      "execution_count": null,
      "outputs": [
        {
          "output_type": "stream",
          "text": [
            "ชื่อ นารินทร์ นามสกุล แสงพระจันทร์ รหัส 613020614-0\n",
            "เกรดวิชา Data Viz >>> F\n"
          ],
          "name": "stdout"
        }
      ]
    },
    {
      "cell_type": "code",
      "metadata": {
        "colab": {
          "base_uri": "https://localhost:8080/"
        },
        "id": "KtI63kikZtcq",
        "outputId": "16d4425b-196f-4478-e803-4109af86e0e9"
      },
      "source": [
        "print_2lines_default('นารินทร์','แสงพระจันทร์','613020614-0','A')"
      ],
      "execution_count": null,
      "outputs": [
        {
          "output_type": "stream",
          "text": [
            "ชื่อ นารินทร์ นามสกุล แสงพระจันทร์ รหัส 613020614-0\n",
            "เกรดวิชา Data Viz >>> A\n"
          ],
          "name": "stdout"
        }
      ]
    },
    {
      "cell_type": "markdown",
      "metadata": {
        "id": "IFsc1c64aTI9"
      },
      "source": [
        "# LOOP การวนซ้ำ"
      ]
    },
    {
      "cell_type": "markdown",
      "metadata": {
        "id": "6xPsaVDc1Zrj"
      },
      "source": [
        "คำสั่ง for เป็นคำสั่งวนซ้ำที่ใช้ควบคุมการทำงานซ้ำๆ ในจำนวนรอบที่แน่นอน"
      ]
    },
    {
      "cell_type": "markdown",
      "metadata": {
        "id": "6h82FzHFpk73"
      },
      "source": [
        "for เป็นคำที่ใช้บอก python ว่าเรากำลังเขียน loop\r\n",
        "โดย for จะวนดึงสมาชิกจาก ```listA``` มาทำ process ```do_something```"
      ]
    },
    {
      "cell_type": "markdown",
      "metadata": {
        "id": "LwvdntRrpoGd"
      },
      "source": [
        "```python\r\n",
        "    for each_member in listA :\r\n",
        "        do_something\r\n",
        "```"
      ]
    },
    {
      "cell_type": "code",
      "metadata": {
        "colab": {
          "base_uri": "https://localhost:8080/"
        },
        "id": "e_zRO4Eyap9m",
        "outputId": "b7614fea-bd92-4915-c652-9c4fd9599b22"
      },
      "source": [
        "for i in [1,2,3] :\r\n",
        "    o = i**2\r\n",
        "    print (f'this member = {i} after process = {o}')"
      ],
      "execution_count": null,
      "outputs": [
        {
          "output_type": "stream",
          "text": [
            "this member = 1 after process = 1\n",
            "this member = 2 after process = 4\n",
            "this member = 3 after process = 9\n"
          ],
          "name": "stdout"
        }
      ]
    },
    {
      "cell_type": "code",
      "metadata": {
        "id": "mL7xQucqZ8pb",
        "outputId": "1de8b57c-b12c-4b23-8f53-f566272c581c",
        "colab": {
          "base_uri": "https://localhost:8080/"
        }
      },
      "source": [
        "for i in 'Dinsor' :  #แบคสแร้ดเอ็น คือขึ้นบรรทัดใหม่\r\n",
        "     print(f'{i} -> / ' )"
      ],
      "execution_count": 40,
      "outputs": [
        {
          "output_type": "stream",
          "text": [
            "D -> / \n",
            "i -> / \n",
            "n -> / \n",
            "s -> / \n",
            "o -> / \n",
            "r -> / \n"
          ],
          "name": "stdout"
        }
      ]
    },
    {
      "cell_type": "code",
      "metadata": {
        "id": "CRyh-qriaB0B",
        "outputId": "7bf67108-0da9-4147-8d94-47da1e7feb50",
        "colab": {
          "base_uri": "https://localhost:8080/"
        }
      },
      "source": [
        "for i in 'Dinsor'  :\r\n",
        "      print(f'{i} -> / ' ,end = '')  #สั่งให้  print  แบบ ไม่เว้นบรรทัด"
      ],
      "execution_count": 42,
      "outputs": [
        {
          "output_type": "stream",
          "text": [
            "D -> / i -> / n -> / s -> / o -> / r -> / "
          ],
          "name": "stdout"
        }
      ]
    },
    {
      "cell_type": "code",
      "metadata": {
        "id": "3oMQ5dYzDL97",
        "outputId": "44dba553-4cd3-4bd3-c6c9-644a39abcfd9",
        "colab": {
          "base_uri": "https://localhost:8080/"
        }
      },
      "source": [
        "for i in 'Dinsor' :\r\n",
        "    print(f'{i} -> / ' ,end = ',') #สั่งให้ print แบบ ไม่เว้นบรรทัด"
      ],
      "execution_count": 43,
      "outputs": [
        {
          "output_type": "stream",
          "text": [
            "D -> / ,i -> / ,n -> / ,s -> / ,o -> / ,r -> / ,"
          ],
          "name": "stdout"
        }
      ]
    },
    {
      "cell_type": "markdown",
      "metadata": {
        "id": "kA5py3zgaEK_"
      },
      "source": [
        "##สร้าง list ตัวเลขแบบอัตโนมัติ range()"
      ]
    },
    {
      "cell_type": "code",
      "metadata": {
        "id": "hjVySUdEaHfn",
        "outputId": "e82362fd-d658-4d4e-af1f-63aa5af373c4",
        "colab": {
          "base_uri": "https://localhost:8080/"
        }
      },
      "source": [
        "range5_output = range(5)\r\n",
        "print(list(range5_output))"
      ],
      "execution_count": 45,
      "outputs": [
        {
          "output_type": "stream",
          "text": [
            "[0, 1, 2, 3, 4]\n"
          ],
          "name": "stdout"
        }
      ]
    },
    {
      "cell_type": "code",
      "metadata": {
        "id": "df-U-y25aJU5",
        "outputId": "7c51aebd-a3f2-4ddb-d455-018cad51b671",
        "colab": {
          "base_uri": "https://localhost:8080/"
        }
      },
      "source": [
        "for i in range(100):\r\n",
        "     print('งง',end=' ')"
      ],
      "execution_count": 1,
      "outputs": [
        {
          "output_type": "stream",
          "text": [
            "งง งง งง งง งง งง งง งง งง งง งง งง งง งง งง งง งง งง งง งง งง งง งง งง งง งง งง งง งง งง งง งง งง งง งง งง งง งง งง งง งง งง งง งง งง งง งง งง งง งง งง งง งง งง งง งง งง งง งง งง งง งง งง งง งง งง งง งง งง งง งง งง งง งง งง งง งง งง งง งง งง งง งง งง งง งง งง งง งง งง งง งง งง งง งง งง งง งง งง งง "
          ],
          "name": "stdout"
        }
      ]
    },
    {
      "cell_type": "code",
      "metadata": {
        "id": "o2T9Je8HaJ4s",
        "outputId": "6bd4e617-f913-4ad1-9dfe-3d1f8750ae0b",
        "colab": {
          "base_uri": "https://localhost:8080/"
        }
      },
      "source": [
        "list(range(1,11)) #เริ่มต้นเป็นวงกลมโปร่ง เหมือน list slicing"
      ],
      "execution_count": 2,
      "outputs": [
        {
          "output_type": "execute_result",
          "data": {
            "text/plain": [
              "[1, 2, 3, 4, 5, 6, 7, 8, 9, 10]"
            ]
          },
          "metadata": {
            "tags": []
          },
          "execution_count": 2
        }
      ]
    },
    {
      "cell_type": "code",
      "metadata": {
        "id": "yFxFWJ8Zcbp1",
        "outputId": "6b1a801f-223f-4a47-8a51-557b416b1ee7",
        "colab": {
          "base_uri": "https://localhost:8080/"
        }
      },
      "source": [
        "list(range(-3,20,4)) #สร้าง list ของตัวเลข"
      ],
      "execution_count": 3,
      "outputs": [
        {
          "output_type": "execute_result",
          "data": {
            "text/plain": [
              "[-3, 1, 5, 9, 13, 17]"
            ]
          },
          "metadata": {
            "tags": []
          },
          "execution_count": 3
        }
      ]
    },
    {
      "cell_type": "markdown",
      "metadata": {
        "id": "UwKqACVlc6mR"
      },
      "source": [
        "##loop in loop\r\n",
        "ใช้  loop ซ้อน loop"
      ]
    },
    {
      "cell_type": "code",
      "metadata": {
        "id": "TSc0gSkYdKSB",
        "outputId": "3a75e6b4-0308-4006-b080-54b603f2a6c7",
        "colab": {
          "base_uri": "https://localhost:8080/"
        }
      },
      "source": [
        "for name1 in range(2,5) : #2,3,4\r\n",
        "     print(f' now name1 = {name1}')\r\n",
        "     for name2 in range(1,13) : #วิ่งตั้งแต่ 1 ถึง 12\r\n",
        "          print(name1, ' x ' ,name2, ' = ' , name1*name2)\r\n",
        "     print('the inner loop is end')"
      ],
      "execution_count": 47,
      "outputs": [
        {
          "output_type": "stream",
          "text": [
            " now name1 = 2\n",
            "2  x  1  =  2\n",
            "2  x  2  =  4\n",
            "2  x  3  =  6\n",
            "2  x  4  =  8\n",
            "2  x  5  =  10\n",
            "2  x  6  =  12\n",
            "2  x  7  =  14\n",
            "2  x  8  =  16\n",
            "2  x  9  =  18\n",
            "2  x  10  =  20\n",
            "2  x  11  =  22\n",
            "2  x  12  =  24\n",
            "the inner loop is end\n",
            " now name1 = 3\n",
            "3  x  1  =  3\n",
            "3  x  2  =  6\n",
            "3  x  3  =  9\n",
            "3  x  4  =  12\n",
            "3  x  5  =  15\n",
            "3  x  6  =  18\n",
            "3  x  7  =  21\n",
            "3  x  8  =  24\n",
            "3  x  9  =  27\n",
            "3  x  10  =  30\n",
            "3  x  11  =  33\n",
            "3  x  12  =  36\n",
            "the inner loop is end\n",
            " now name1 = 4\n",
            "4  x  1  =  4\n",
            "4  x  2  =  8\n",
            "4  x  3  =  12\n",
            "4  x  4  =  16\n",
            "4  x  5  =  20\n",
            "4  x  6  =  24\n",
            "4  x  7  =  28\n",
            "4  x  8  =  32\n",
            "4  x  9  =  36\n",
            "4  x  10  =  40\n",
            "4  x  11  =  44\n",
            "4  x  12  =  48\n",
            "the inner loop is end\n"
          ],
          "name": "stdout"
        }
      ]
    },
    {
      "cell_type": "markdown",
      "metadata": {
        "id": "riqjPBBnfD6V"
      },
      "source": [
        "##loop in function"
      ]
    },
    {
      "cell_type": "code",
      "metadata": {
        "id": "OMyA9tUlf3jx"
      },
      "source": [
        "def print_feelings(I,monstax,feeling = 'คิดถึง') :\r\n",
        "     for monsta in monstax :\r\n",
        "          print(f'{I} {feeling} {monsta}')"
      ],
      "execution_count": 25,
      "outputs": []
    },
    {
      "cell_type": "code",
      "metadata": {
        "id": "zvl2WNh2hYUQ"
      },
      "source": [
        "list_monstax = ['พินู','ไอเอ็ม','พิแช','วอนโอ','พิกี','มินฮยอก','จูฮอน']"
      ],
      "execution_count": 28,
      "outputs": []
    },
    {
      "cell_type": "code",
      "metadata": {
        "id": "Yu3vcNsdgBH6",
        "outputId": "61419ab1-3ab9-4381-e409-ea2919a27beb",
        "colab": {
          "base_uri": "https://localhost:8080/"
        }
      },
      "source": [
        "print_feelings('พิแช',list_monstax)"
      ],
      "execution_count": 29,
      "outputs": [
        {
          "output_type": "stream",
          "text": [
            "พิแช คิดถึง พินู\n",
            "พิแช คิดถึง ไอเอ็ม\n",
            "พิแช คิดถึง พิแช\n",
            "พิแช คิดถึง วอนโอ\n",
            "พิแช คิดถึง พิกี\n",
            "พิแช คิดถึง มินฮยอก\n",
            "พิแช คิดถึง จูฮอน\n"
          ],
          "name": "stdout"
        }
      ]
    },
    {
      "cell_type": "code",
      "metadata": {
        "id": "sJeOr3-9DlJU",
        "outputId": "39ada4f7-a2e6-4e29-e8ed-4b288e6bdfaf",
        "colab": {
          "base_uri": "https://localhost:8080/"
        }
      },
      "source": [
        "print_feelings('พิแช',list_monstax,feeling='รัก')"
      ],
      "execution_count": 48,
      "outputs": [
        {
          "output_type": "stream",
          "text": [
            "พิแช รัก พินู\n",
            "พิแช รัก ไอเอ็ม\n",
            "พิแช รัก พิแช\n",
            "พิแช รัก วอนโอ\n",
            "พิแช รัก พิกี\n",
            "พิแช รัก มินฮยอก\n",
            "พิแช รัก จูฮอน\n"
          ],
          "name": "stdout"
        }
      ]
    },
    {
      "cell_type": "code",
      "metadata": {
        "id": "oMcjXrn5Dv5t",
        "outputId": "d9518526-752f-4113-ade1-d272bc9d6ca0",
        "colab": {
          "base_uri": "https://localhost:8080/"
        }
      },
      "source": [
        "print_feelings('พิแช',list_monstax,'รัก')"
      ],
      "execution_count": 49,
      "outputs": [
        {
          "output_type": "stream",
          "text": [
            "พิแช รัก พินู\n",
            "พิแช รัก ไอเอ็ม\n",
            "พิแช รัก พิแช\n",
            "พิแช รัก วอนโอ\n",
            "พิแช รัก พิกี\n",
            "พิแช รัก มินฮยอก\n",
            "พิแช รัก จูฮอน\n"
          ],
          "name": "stdout"
        }
      ]
    },
    {
      "cell_type": "markdown",
      "metadata": {
        "id": "xxqFV9J5j9yE"
      },
      "source": [
        "##Conditional คือ เงื่อนไข/ประโยคงื่อนไข\r\n",
        "คำลั่งจะมี if "
      ]
    },
    {
      "cell_type": "markdown",
      "metadata": {
        "id": "Hgx4wMeMD-Jx"
      },
      "source": [
        "##### True / False\r\n",
        "##### การวนลูปโดยมีเงื่อนไขต่างๆมาเกี่ยวข้อง โดยมี pattern ดังนี้\r\n"
      ]
    },
    {
      "cell_type": "markdown",
      "metadata": {
        "id": "FlXcDboiD7EN"
      },
      "source": [
        "```Python\r\n",
        "if condition1 :\r\n",
        "    do something\r\n",
        "elif condition2 :  #elif คือ else if\r\n",
        "    do another thing\r\n",
        "else:\r\n",
        "    do ...\r\n",
        "```\r\n",
        "    "
      ]
    },
    {
      "cell_type": "code",
      "metadata": {
        "id": "Lx8qvI1GkUwQ",
        "outputId": "fed58aac-eca9-417e-9de0-1ca12ec4053c",
        "colab": {
          "base_uri": "https://localhost:8080/"
        }
      },
      "source": [
        "for name1 in list_monstax :\r\n",
        "     for name2 in list_monstax :\r\n",
        "          if name1 != name2 : #ไม่ปริ้นชื่อคนเดียวซ้ำ\r\n",
        "                  print(name1,'รัก',name2)"
      ],
      "execution_count": 30,
      "outputs": [
        {
          "output_type": "stream",
          "text": [
            "พินู รัก ไอเอ็ม\n",
            "พินู รัก พิแช\n",
            "พินู รัก วอนโอ\n",
            "พินู รัก พิกี\n",
            "พินู รัก มินฮยอก\n",
            "พินู รัก จูฮอน\n",
            "ไอเอ็ม รัก พินู\n",
            "ไอเอ็ม รัก พิแช\n",
            "ไอเอ็ม รัก วอนโอ\n",
            "ไอเอ็ม รัก พิกี\n",
            "ไอเอ็ม รัก มินฮยอก\n",
            "ไอเอ็ม รัก จูฮอน\n",
            "พิแช รัก พินู\n",
            "พิแช รัก ไอเอ็ม\n",
            "พิแช รัก วอนโอ\n",
            "พิแช รัก พิกี\n",
            "พิแช รัก มินฮยอก\n",
            "พิแช รัก จูฮอน\n",
            "วอนโอ รัก พินู\n",
            "วอนโอ รัก ไอเอ็ม\n",
            "วอนโอ รัก พิแช\n",
            "วอนโอ รัก พิกี\n",
            "วอนโอ รัก มินฮยอก\n",
            "วอนโอ รัก จูฮอน\n",
            "พิกี รัก พินู\n",
            "พิกี รัก ไอเอ็ม\n",
            "พิกี รัก พิแช\n",
            "พิกี รัก วอนโอ\n",
            "พิกี รัก มินฮยอก\n",
            "พิกี รัก จูฮอน\n",
            "มินฮยอก รัก พินู\n",
            "มินฮยอก รัก ไอเอ็ม\n",
            "มินฮยอก รัก พิแช\n",
            "มินฮยอก รัก วอนโอ\n",
            "มินฮยอก รัก พิกี\n",
            "มินฮยอก รัก จูฮอน\n",
            "จูฮอน รัก พินู\n",
            "จูฮอน รัก ไอเอ็ม\n",
            "จูฮอน รัก พิแช\n",
            "จูฮอน รัก วอนโอ\n",
            "จูฮอน รัก พิกี\n",
            "จูฮอน รัก มินฮยอก\n"
          ],
          "name": "stdout"
        }
      ]
    },
    {
      "cell_type": "code",
      "metadata": {
        "id": "r9GQZq9yl_kZ",
        "outputId": "838ebfbe-34df-49f8-b53f-2679ab07005d",
        "colab": {
          "base_uri": "https://localhost:8080/"
        }
      },
      "source": [
        "for name1 in list_monstax :\r\n",
        "     for name2 in list_monstax :\r\n",
        "          if name1 == name2 : #ปริ้นชื่อคนเดียวซ้ำ\r\n",
        "                  print(name1,'รัก',name2)"
      ],
      "execution_count": 31,
      "outputs": [
        {
          "output_type": "stream",
          "text": [
            "พินู รัก พินู\n",
            "ไอเอ็ม รัก ไอเอ็ม\n",
            "พิแช รัก พิแช\n",
            "วอนโอ รัก วอนโอ\n",
            "พิกี รัก พิกี\n",
            "มินฮยอก รัก มินฮยอก\n",
            "จูฮอน รัก จูฮอน\n"
          ],
          "name": "stdout"
        }
      ]
    },
    {
      "cell_type": "code",
      "metadata": {
        "id": "WkNvM2dLmGUo",
        "outputId": "7d1875a1-10f0-4f74-cf6a-fb845a4fca57",
        "colab": {
          "base_uri": "https://localhost:8080/"
        }
      },
      "source": [
        "for name1 in list_monstax :\r\n",
        "     for name2 in list_monstax :\r\n",
        "          if name1 == name2 : \r\n",
        "               'do nothing'       #ถ้าว่างไว้มันเออเร้อ\r\n",
        "          else:\r\n",
        "                  print(name1,'รัก',name2)"
      ],
      "execution_count": 33,
      "outputs": [
        {
          "output_type": "stream",
          "text": [
            "พินู รัก ไอเอ็ม\n",
            "พินู รัก พิแช\n",
            "พินู รัก วอนโอ\n",
            "พินู รัก พิกี\n",
            "พินู รัก มินฮยอก\n",
            "พินู รัก จูฮอน\n",
            "ไอเอ็ม รัก พินู\n",
            "ไอเอ็ม รัก พิแช\n",
            "ไอเอ็ม รัก วอนโอ\n",
            "ไอเอ็ม รัก พิกี\n",
            "ไอเอ็ม รัก มินฮยอก\n",
            "ไอเอ็ม รัก จูฮอน\n",
            "พิแช รัก พินู\n",
            "พิแช รัก ไอเอ็ม\n",
            "พิแช รัก วอนโอ\n",
            "พิแช รัก พิกี\n",
            "พิแช รัก มินฮยอก\n",
            "พิแช รัก จูฮอน\n",
            "วอนโอ รัก พินู\n",
            "วอนโอ รัก ไอเอ็ม\n",
            "วอนโอ รัก พิแช\n",
            "วอนโอ รัก พิกี\n",
            "วอนโอ รัก มินฮยอก\n",
            "วอนโอ รัก จูฮอน\n",
            "พิกี รัก พินู\n",
            "พิกี รัก ไอเอ็ม\n",
            "พิกี รัก พิแช\n",
            "พิกี รัก วอนโอ\n",
            "พิกี รัก มินฮยอก\n",
            "พิกี รัก จูฮอน\n",
            "มินฮยอก รัก พินู\n",
            "มินฮยอก รัก ไอเอ็ม\n",
            "มินฮยอก รัก พิแช\n",
            "มินฮยอก รัก วอนโอ\n",
            "มินฮยอก รัก พิกี\n",
            "มินฮยอก รัก จูฮอน\n",
            "จูฮอน รัก พินู\n",
            "จูฮอน รัก ไอเอ็ม\n",
            "จูฮอน รัก พิแช\n",
            "จูฮอน รัก วอนโอ\n",
            "จูฮอน รัก พิกี\n",
            "จูฮอน รัก มินฮยอก\n"
          ],
          "name": "stdout"
        }
      ]
    },
    {
      "cell_type": "markdown",
      "metadata": {
        "id": "PHb_dwKymvQt"
      },
      "source": [
        "==,!= (สองอันไม่เท่ากันหรือเปล่า),>=,<=,<,>"
      ]
    },
    {
      "cell_type": "code",
      "metadata": {
        "id": "YRwGKy--EOry",
        "outputId": "83308339-be43-4621-83ab-5c4b2ea696c2",
        "colab": {
          "base_uri": "https://localhost:8080/"
        }
      },
      "source": [
        "'ิพิแช' == 'วอนโฮ'"
      ],
      "execution_count": 50,
      "outputs": [
        {
          "output_type": "execute_result",
          "data": {
            "text/plain": [
              "False"
            ]
          },
          "metadata": {
            "tags": []
          },
          "execution_count": 50
        }
      ]
    },
    {
      "cell_type": "code",
      "metadata": {
        "id": "d9DosXJjEVtK",
        "outputId": "b5f30458-ab69-46a0-d2fa-cbe0b8b17947",
        "colab": {
          "base_uri": "https://localhost:8080/"
        }
      },
      "source": [
        "'นัมจู' != 'จีซู'"
      ],
      "execution_count": 51,
      "outputs": [
        {
          "output_type": "execute_result",
          "data": {
            "text/plain": [
              "True"
            ]
          },
          "metadata": {
            "tags": []
          },
          "execution_count": 51
        }
      ]
    },
    {
      "cell_type": "markdown",
      "metadata": {
        "id": "2Mh_bZwwEf8c"
      },
      "source": [
        "#### หากหลังเงื่อนไข True ถูกต้องจะทำการ print ข้อความออกมาว่า Yes"
      ]
    },
    {
      "cell_type": "code",
      "metadata": {
        "id": "upZ1fNIvEgnl"
      },
      "source": [
        ""
      ],
      "execution_count": null,
      "outputs": []
    },
    {
      "cell_type": "code",
      "metadata": {
        "id": "lp99ZP7anR-T",
        "outputId": "1f4e13de-bc11-43c9-de3f-bfa8fa7073a0",
        "colab": {
          "base_uri": "https://localhost:8080/"
        }
      },
      "source": [
        "if True:\r\n",
        "    print('Yes')"
      ],
      "execution_count": 34,
      "outputs": [
        {
          "output_type": "stream",
          "text": [
            "Yes\n"
          ],
          "name": "stdout"
        }
      ]
    },
    {
      "cell_type": "code",
      "metadata": {
        "id": "IWzILtrBnmK_"
      },
      "source": [
        "if False:\r\n",
        "    print('No')"
      ],
      "execution_count": 37,
      "outputs": []
    },
    {
      "cell_type": "markdown",
      "metadata": {
        "id": "aD9C5A9DElK1"
      },
      "source": [
        "#### หากหลังเงื่อนไข False ไม่ถูกต้องจะไม่ปริ้นข้อความใดๆออกมา\r\n",
        "#### ซึ่งจะต้องใช้เงื่อนไขนี้ จึงจะได้ปริ้นค่าเงื่อนไขนั้นออกมา ดังนี้"
      ]
    },
    {
      "cell_type": "code",
      "metadata": {
        "id": "w3kBqXxlEo6M",
        "outputId": "8d2ed9cf-7a33-47e5-87d5-c586ecc038de",
        "colab": {
          "base_uri": "https://localhost:8080/"
        }
      },
      "source": [
        "if False:\r\n",
        "    print('Yes')\r\n",
        "else:\r\n",
        "    print('No')"
      ],
      "execution_count": 52,
      "outputs": [
        {
          "output_type": "stream",
          "text": [
            "No\n"
          ],
          "name": "stdout"
        }
      ]
    },
    {
      "cell_type": "markdown",
      "metadata": {
        "id": "LpYIUnmRnxf2"
      },
      "source": [
        "# HW\r\n",
        "#### เขียน function ตัดเกรด โดยที่ input เป็นคะแนน(0-100) , output เป็นเกรด (F-A)\r\n",
        "#### วนลูปตัดเกรด input = [1,50,65,90,101,-5,49]"
      ]
    },
    {
      "cell_type": "markdown",
      "metadata": {
        "id": "W7-Z2e6PEvmi"
      },
      "source": [
        "##### กำหนด\r\n",
        "      ถ้าคะแนนอยู่ระหว่างมากกว่าหรือเท่ากับ  0  แต่น้อยกว่า 50 จะได้เกรด F\r\n",
        "      ถ้าคะแนนอยู่ระหว่างมากกว่าหรือเท่ากับ 50 แต่น้อยกว่า 55 จะได้เกรด D\r\n",
        "      ถ้าคะแนนอยู่ระหว่างมากกว่าหรือเท่ากับ 55 แต่น้อยกว่า 60 จะได้เกรด D+\r\n",
        "      ถ้าคะแนนอยู่ระหว่างมากกว่าหรือเท่ากับ 60 แต่น้อยกว่า 65 จะได้เกรด C\r\n",
        "      ถ้าคะแนนอยู่ระหว่างมากกว่าหรือเท่ากับ 65 แต่น้อยกว่า 70 จะได้เกรด C+\r\n",
        "      ถ้าคะแนนอยู่ระหว่างมากกว่าหรือเท่ากับ 70 แต่น้อยกว่า 75 จะได้เกรด B\r\n",
        "      ถ้าคะแนนอยู่ระหว่างมากกว่าหรือเท่ากับ 75 แต่น้อยกว่า 80 จะได้เกรด B+\r\n",
        "      ถ้าคะแนนอยู่ระหว่างมากกว่าหรือเท่ากับ 80  จะได้เกรด A\r\n",
        "      แต่ว่าค่าคะแนนจะต้องไม่ต่ำกว่า 0 และมากกว่า 100 ไม่งั้นจะเกิด error"
      ]
    },
    {
      "cell_type": "code",
      "metadata": {
        "id": "avYwxQIanuOm"
      },
      "source": [
        ""
      ],
      "execution_count": null,
      "outputs": []
    }
  ]
}