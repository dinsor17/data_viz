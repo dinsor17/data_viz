{
  "nbformat": 4,
  "nbformat_minor": 0,
  "metadata": {
    "kernelspec": {
      "display_name": "Python 3",
      "language": "python",
      "name": "python3"
    },
    "language_info": {
      "codemirror_mode": {
        "name": "ipython",
        "version": 3
      },
      "file_extension": ".py",
      "mimetype": "text/x-python",
      "name": "python",
      "nbconvert_exporter": "python",
      "pygments_lexer": "ipython3",
      "version": "3.7.4"
    },
    "colab": {
      "name": "Function_Loop_Condition.ipynb",
      "provenance": [],
      "include_colab_link": true
    }
  },
  "cells": [
    {
      "cell_type": "markdown",
      "metadata": {
        "id": "view-in-github",
        "colab_type": "text"
      },
      "source": [
        "<a href=\"https://colab.research.google.com/github/dinsor17/data_viz/blob/main/Function_Loop_Condition.ipynb\" target=\"_parent\"><img src=\"https://colab.research.google.com/assets/colab-badge.svg\" alt=\"Open In Colab\"/></a>"
      ]
    },
    {
      "cell_type": "code",
      "metadata": {
        "colab": {
          "base_uri": "https://localhost:8080/"
        },
        "id": "E9VaaQ6ibPqb",
        "outputId": "ea41bf31-02ca-4bdb-a70d-f4a3520504a6"
      },
      "source": [
        "name = 'นารินทร์'\n",
        "surname = 'แสงพระจันทร์'\n",
        "ID = '613020614-0'\n",
        "\n",
        "b= f'ชื่อ {name} นามสกุล {surname} รหัส {ID}'\n",
        "print(b)"
      ],
      "execution_count": 1,
      "outputs": [
        {
          "output_type": "stream",
          "text": [
            "ชื่อ นารินทร์ นามสกุล แสงพระจันทร์ รหัส 613020614-0\n"
          ],
          "name": "stdout"
        }
      ]
    },
    {
      "cell_type": "markdown",
      "metadata": {
        "id": "-57L9aVubPqU"
      },
      "source": [
        "# Function"
      ]
    },
    {
      "cell_type": "markdown",
      "metadata": {
        "id": "1DNzYhO4bPqb"
      },
      "source": [
        "## Function template \n",
        "#### ทำหน้าที่รับ input มาประมวณผลออกมาเป็น output\n",
        "#### f(x) = y"
      ]
    },
    {
      "cell_type": "markdown",
      "metadata": {
        "id": "3Nv1ZDEKbPqc"
      },
      "source": [
        "### def คือการกำหนดฟังก์ชัน"
      ]
    },
    {
      "cell_type": "markdown",
      "metadata": {
        "id": "YnjWc1vXl1VF"
      },
      "source": [
        "\n",
        "backtick (`) ==> กด ~ ค้าง, alt - 9>6 (full keyboard with number)\n",
        "\n",
        "tilde (~)\n",
        "\n",
        "curly bracket ({ })\n",
        "\n",
        "square bracket ([ ])"
      ]
    },
    {
      "cell_type": "markdown",
      "metadata": {
        "id": "DbHDoWEabPqc"
      },
      "source": [
        "```python\n",
        "    def function_name(_Input_) :\n",
        "        do_something with _Input_ to get _Output_\n",
        "        return _Output_\n",
        "```"
      ]
    },
    {
      "cell_type": "markdown",
      "metadata": {
        "id": "kh2M1smCl5Iv"
      },
      "source": [
        "function มีส่วนสำคัญทั้งหมด 4 ส่วน\n",
        "\n",
        "1.   บอก python ว่าเราจะเขียนฟังก์ชั่น ชื่ออะไร  ```def function_name():``` (ขาดไม่ได้)\n",
        "2.   กำหนดตัวแปรที่จะเป็น input  ```_Input_``` (ขาดได้)\n",
        "3.   ส่วนประมวลผล ```do_something with _Input_ to get _Output_``` (ขาดไม่ได้)\n",
        "4.   ส่วน output ```return _Output_```(ขาดได้)\n",
        "\n"
      ]
    },
    {
      "cell_type": "markdown",
      "metadata": {
        "id": "lqWzVN5AbPqc"
      },
      "source": [
        "#### ตัวอย่างการเขียน normal function\n"
      ]
    },
    {
      "cell_type": "code",
      "metadata": {
        "id": "n706WULobPqc"
      },
      "source": [
        "def print_name(surname,ID,name):\n",
        "    st = f'ชื่อ {name} นามสกุล {surname} รหัส {ID}'\n",
        "    return st"
      ],
      "execution_count": 3,
      "outputs": []
    },
    {
      "cell_type": "code",
      "metadata": {
        "colab": {
          "base_uri": "https://localhost:8080/",
          "height": 35
        },
        "id": "muh0pi_Gkym8",
        "outputId": "e109685e-486c-486b-ebfb-528b701d4d4b"
      },
      "source": [
        "print_name('แสงพระจันทร์','613020614-0','นารินทร์')"
      ],
      "execution_count": 5,
      "outputs": [
        {
          "output_type": "execute_result",
          "data": {
            "application/vnd.google.colaboratory.intrinsic+json": {
              "type": "string"
            },
            "text/plain": [
              "'ชื่อ นารินทร์ นามสกุล แสงพระจันทร์ รหัส 613020614-0'"
            ]
          },
          "metadata": {
            "tags": []
          },
          "execution_count": 5
        }
      ]
    },
    {
      "cell_type": "code",
      "metadata": {
        "colab": {
          "base_uri": "https://localhost:8080/"
        },
        "id": "I1Kt_GOpbPqd",
        "outputId": "f86d7998-24ae-473c-a706-536da025e864"
      },
      "source": [
        "print(print_name(name='Jungsuk',surname='Lee',ID='613020614-0'))"
      ],
      "execution_count": 6,
      "outputs": [
        {
          "output_type": "stream",
          "text": [
            "ชื่อ Jungsuk นามสกุล Lee รหัส 613020614-0\n"
          ],
          "name": "stdout"
        }
      ]
    },
    {
      "cell_type": "markdown",
      "metadata": {
        "id": "1fuimreqpVhU"
      },
      "source": [
        "เราใช้ เว้นวรรค (indent) เพื่อบอกขอบเขตของโปรแกรม "
      ]
    },
    {
      "cell_type": "markdown",
      "metadata": {
        "id": "tSV-FUQBpx0i"
      },
      "source": [
        "ฟังก์ชั่นไม่จำเป็นต้องมี output"
      ]
    },
    {
      "cell_type": "code",
      "metadata": {
        "id": "loNAFSvLo5dC"
      },
      "source": [
        "def print_name2(surname,ID,name):\n",
        "    st = f'ชื่อ {name} นามสกุล {surname} รหัส {ID}'\n",
        "    print(st)"
      ],
      "execution_count": 7,
      "outputs": []
    },
    {
      "cell_type": "code",
      "metadata": {
        "colab": {
          "base_uri": "https://localhost:8080/"
        },
        "id": "JE88oCj8o_j_",
        "outputId": "79092610-b878-44c0-e025-fa0d5694ed42"
      },
      "source": [
        "print_name2(name='ฮยองวอน',surname='แช',ID='613020614-0')"
      ],
      "execution_count": 8,
      "outputs": [
        {
          "output_type": "stream",
          "text": [
            "ชื่อ ฮยองวอน นามสกุล แช รหัส 613020614-0\n"
          ],
          "name": "stdout"
        }
      ]
    },
    {
      "cell_type": "markdown",
      "metadata": {
        "id": "JF4RdyEBqPyl"
      },
      "source": [
        "ฟังก์ชั่นไม่จำเป็นต้องมี input"
      ]
    },
    {
      "cell_type": "code",
      "metadata": {
        "id": "LNb_o_ZXo_gh"
      },
      "source": [
        "def Pi():\n",
        "    return 3.14159265359"
      ],
      "execution_count": 9,
      "outputs": []
    },
    {
      "cell_type": "code",
      "metadata": {
        "colab": {
          "base_uri": "https://localhost:8080/"
        },
        "id": "htN6zLbFo_dr",
        "outputId": "c0e60136-ae16-43cb-f61f-609667433a1c"
      },
      "source": [
        "Pi()*(2**2) # หาพื้นที่ของวงกลมที่มีรัศมีเท่ากับ Pi * r^2"
      ],
      "execution_count": 10,
      "outputs": [
        {
          "output_type": "execute_result",
          "data": {
            "text/plain": [
              "12.56637061436"
            ]
          },
          "metadata": {
            "tags": []
          },
          "execution_count": 10
        }
      ]
    },
    {
      "cell_type": "markdown",
      "metadata": {
        "id": "ywc0Ho-_rUTu"
      },
      "source": [
        "## เราสามารถกำหนดค่า default ให้กับฟังก์ชั่นได้"
      ]
    },
    {
      "cell_type": "markdown",
      "metadata": {
        "id": "y_74dHkjxS7f"
      },
      "source": [
        "input ของ function ใน python มีสองแบบ input ที่จำเป็นต้องใส่ กับ input ที่ไม่จำเป็นต้องใส่ (มีค่า default)\n",
        "\n",
        "เราต้องเรียง input ที่จำเป็นต้องใส่ขึ้นก่อน"
      ]
    },
    {
      "cell_type": "code",
      "metadata": {
        "id": "0Lrh-6mAo_bA"
      },
      "source": [
        "def print_2lines_default(name,surname,ID,grade='F'):\n",
        "    st = f'ชื่อ {name} นามสกุล {surname} รหัส {ID}'\n",
        "    print (st)\n",
        "    st2=f'เกรดวิชา Data Viz >>> {grade}'\n",
        "    print(st2)"
      ],
      "execution_count": 11,
      "outputs": []
    },
    {
      "cell_type": "code",
      "metadata": {
        "colab": {
          "base_uri": "https://localhost:8080/"
        },
        "id": "ZH31VIjko_WP",
        "outputId": "8d92903e-7153-44d1-c50d-38f8c36b1772"
      },
      "source": [
        "print_2lines_default('นารินทร์','แสงพระจันทร์','613020614-0')"
      ],
      "execution_count": 12,
      "outputs": [
        {
          "output_type": "stream",
          "text": [
            "ชื่อ นารินทร์ นามสกุล แสงพระจันทร์ รหัส 613020614-0\n",
            "เกรดวิชา Data Viz >>> F\n"
          ],
          "name": "stdout"
        }
      ]
    },
    {
      "cell_type": "code",
      "metadata": {
        "colab": {
          "base_uri": "https://localhost:8080/"
        },
        "id": "FKGr2Iyuo_S2",
        "outputId": "11574f06-e5d8-4944-b62a-452a84aee1f9"
      },
      "source": [
        "print_2lines_default('นารินทร์','แสงพระจันทร์','613020614-0','A')"
      ],
      "execution_count": 13,
      "outputs": [
        {
          "output_type": "stream",
          "text": [
            "ชื่อ นารินทร์ นามสกุล แสงพระจันทร์ รหัส 613020614-0\n",
            "เกรดวิชา Data Viz >>> A\n"
          ],
          "name": "stdout"
        }
      ]
    },
    {
      "cell_type": "markdown",
      "metadata": {
        "id": "UB5fTAr3bPqg"
      },
      "source": [
        "# LOOP การวนซ้ำ"
      ]
    },
    {
      "cell_type": "markdown",
      "metadata": {
        "id": "gpIwjDjg0gfJ"
      },
      "source": [
        "for เป็นคำที่ใช้บอก python ว่าเรากำลังเขียน loop\n",
        "โดย for จะวนดึงสมาชิกจาก ```listA``` มาทำ process ```do_something```"
      ]
    },
    {
      "cell_type": "markdown",
      "metadata": {
        "id": "6XS2wO4_bPqg"
      },
      "source": [
        "```python\n",
        "    for each_member in listA :\n",
        "        do_something\n",
        "```"
      ]
    },
    {
      "cell_type": "markdown",
      "metadata": {
        "id": "d7kQ2AEcbPqg"
      },
      "source": [
        "#### คำสั่ง for เป็นคำสั่งวนซ้ำที่ใช้ควบคุมการทำงานซ้ำๆ ในจำนวนรอบที่แน่นอน"
      ]
    },
    {
      "cell_type": "code",
      "metadata": {
        "colab": {
          "base_uri": "https://localhost:8080/"
        },
        "id": "NcT-s7TEbPqg",
        "outputId": "6beb9e47-292b-475b-f406-c3cf406c5ebe"
      },
      "source": [
        "for i in [1,2,3] :\n",
        "    o = i**2\n",
        "    print (f'this member = {i} after process = {o}')"
      ],
      "execution_count": 14,
      "outputs": [
        {
          "output_type": "stream",
          "text": [
            "this member = 1 after process = 1\n",
            "this member = 2 after process = 4\n",
            "this member = 3 after process = 9\n"
          ],
          "name": "stdout"
        }
      ]
    },
    {
      "cell_type": "markdown",
      "metadata": {
        "id": "NMR1PEt62bqZ"
      },
      "source": [
        "# จบวันที่ 7 มค 2564"
      ]
    },
    {
      "cell_type": "markdown",
      "metadata": {
        "id": "YbnFaiU2bPqg"
      },
      "source": [
        "#### ตัวอย่างการใช้คำสั่ง for ในการวนซ้ำค่าของ i เมื่อ i คือ 'Thanapong' และคำสั่ง print(f'{i} -> /') เพื่อกำหนดให้ผลลัพธ์แสดงสัญลักษณ์ -> /  จากนั้นเพิ่มคำสั่ง print(' ') อีกครั้งเพื่อให้ผลลัพธ์มีการเว้นวรรค¶ "
      ]
    },
    {
      "cell_type": "code",
      "metadata": {
        "id": "kstoI_CEbPqh",
        "colab": {
          "base_uri": "https://localhost:8080/"
        },
        "outputId": "ec7fe375-0faf-4eee-c359-253b971cd8ba"
      },
      "source": [
        "for i in 'dinsor17':\n",
        "    print(f'{i} -> / ' )"
      ],
      "execution_count": 16,
      "outputs": [
        {
          "output_type": "stream",
          "text": [
            "d -> / \n",
            "i -> / \n",
            "n -> / \n",
            "s -> / \n",
            "o -> / \n",
            "r -> / \n",
            "1 -> / \n",
            "7 -> / \n"
          ],
          "name": "stdout"
        }
      ]
    },
    {
      "cell_type": "code",
      "metadata": {
        "id": "mQmh0Ip-V8qR",
        "colab": {
          "base_uri": "https://localhost:8080/"
        },
        "outputId": "93cf1f38-b531-47cd-ccf2-d55d779b7df3"
      },
      "source": [
        "for i in 'dinsor':\n",
        "    print(f'{i} -> / ' ,end = '') #สั่งให้ print แบบ ไม่เว้นบรรทัด"
      ],
      "execution_count": 17,
      "outputs": [
        {
          "output_type": "stream",
          "text": [
            "d -> / i -> / n -> / s -> / o -> / r -> / "
          ],
          "name": "stdout"
        }
      ]
    },
    {
      "cell_type": "code",
      "metadata": {
        "id": "rswo2JlyW0Ou",
        "colab": {
          "base_uri": "https://localhost:8080/"
        },
        "outputId": "eff57537-322c-4307-eb22-35161494016d"
      },
      "source": [
        "for i in 'dinsor':\n",
        "    print(f'{i} -> / ' ,end = ',') #สั่งให้ print แบบ ไม่เว้นบรรทัด"
      ],
      "execution_count": 18,
      "outputs": [
        {
          "output_type": "stream",
          "text": [
            "d -> / ,i -> / ,n -> / ,s -> / ,o -> / ,r -> / ,"
          ],
          "name": "stdout"
        }
      ]
    },
    {
      "cell_type": "markdown",
      "metadata": {
        "id": "3_I0IHOqXMIr"
      },
      "source": [
        "## สร้าง list ตัวเลขแบบอัตโนมัติ  range() "
      ]
    },
    {
      "cell_type": "code",
      "metadata": {
        "id": "ensAuLXBW-0P",
        "colab": {
          "base_uri": "https://localhost:8080/"
        },
        "outputId": "eb88d21d-8419-49d7-f014-b590030b7b11"
      },
      "source": [
        "range5_output = range(5)\n",
        "print(list(range5_output))"
      ],
      "execution_count": 19,
      "outputs": [
        {
          "output_type": "stream",
          "text": [
            "[0, 1, 2, 3, 4]\n"
          ],
          "name": "stdout"
        }
      ]
    },
    {
      "cell_type": "code",
      "metadata": {
        "id": "r8JXggPKXrEx",
        "colab": {
          "base_uri": "https://localhost:8080/"
        },
        "outputId": "e28cb3fd-89be-4cab-91a4-fab4f0c5f5c5"
      },
      "source": [
        "for i in range(100):\n",
        "    print('งง',end=' ')"
      ],
      "execution_count": 20,
      "outputs": [
        {
          "output_type": "stream",
          "text": [
            "งง งง งง งง งง งง งง งง งง งง งง งง งง งง งง งง งง งง งง งง งง งง งง งง งง งง งง งง งง งง งง งง งง งง งง งง งง งง งง งง งง งง งง งง งง งง งง งง งง งง งง งง งง งง งง งง งง งง งง งง งง งง งง งง งง งง งง งง งง งง งง งง งง งง งง งง งง งง งง งง งง งง งง งง งง งง งง งง งง งง งง งง งง งง งง งง งง งง งง งง "
          ],
          "name": "stdout"
        }
      ]
    },
    {
      "cell_type": "code",
      "metadata": {
        "id": "RLvhNqw8YpKa",
        "colab": {
          "base_uri": "https://localhost:8080/"
        },
        "outputId": "c9dd3b13-5fee-4bb9-e498-63e35b71b629"
      },
      "source": [
        "list(range(1,11)) #เริ่มต้นเป็นวงทึบ จบเป็นวงกลมโปร่ง เหมือน list slicing"
      ],
      "execution_count": 21,
      "outputs": [
        {
          "output_type": "execute_result",
          "data": {
            "text/plain": [
              "[1, 2, 3, 4, 5, 6, 7, 8, 9, 10]"
            ]
          },
          "metadata": {
            "tags": []
          },
          "execution_count": 21
        }
      ]
    },
    {
      "cell_type": "code",
      "metadata": {
        "id": "MqXQ9NLGcW-r",
        "colab": {
          "base_uri": "https://localhost:8080/"
        },
        "outputId": "cc861d06-6281-4e8b-cfdd-adcb99481ff9"
      },
      "source": [
        "list(range(-3,20,4))"
      ],
      "execution_count": 22,
      "outputs": [
        {
          "output_type": "execute_result",
          "data": {
            "text/plain": [
              "[-3, 1, 5, 9, 13, 17]"
            ]
          },
          "metadata": {
            "tags": []
          },
          "execution_count": 22
        }
      ]
    },
    {
      "cell_type": "markdown",
      "metadata": {
        "id": "vPcR4tJebPqi"
      },
      "source": [
        "### loop in loop\n",
        "#### สามารถใช้ for loop ซ้อนกันสองรอบได้¶"
      ]
    },
    {
      "cell_type": "code",
      "metadata": {
        "id": "TKRcpd5DbPqi",
        "colab": {
          "base_uri": "https://localhost:8080/"
        },
        "outputId": "722a4cde-9bed-4ffc-b197-1747b347e21a"
      },
      "source": [
        "for name1 in  range(2,5): #(2, 3, 4)\n",
        "    print(f'now name1 = {name1}')\n",
        "    for name2 in  range(1,13):\n",
        "        print(name1,' x ',name2,' = ',name1*name2)\n",
        "    print('the inner loop is end')"
      ],
      "execution_count": 23,
      "outputs": [
        {
          "output_type": "stream",
          "text": [
            "now name1 = 2\n",
            "2  x  1  =  2\n",
            "2  x  2  =  4\n",
            "2  x  3  =  6\n",
            "2  x  4  =  8\n",
            "2  x  5  =  10\n",
            "2  x  6  =  12\n",
            "2  x  7  =  14\n",
            "2  x  8  =  16\n",
            "2  x  9  =  18\n",
            "2  x  10  =  20\n",
            "2  x  11  =  22\n",
            "2  x  12  =  24\n",
            "the inner loop is end\n",
            "now name1 = 3\n",
            "3  x  1  =  3\n",
            "3  x  2  =  6\n",
            "3  x  3  =  9\n",
            "3  x  4  =  12\n",
            "3  x  5  =  15\n",
            "3  x  6  =  18\n",
            "3  x  7  =  21\n",
            "3  x  8  =  24\n",
            "3  x  9  =  27\n",
            "3  x  10  =  30\n",
            "3  x  11  =  33\n",
            "3  x  12  =  36\n",
            "the inner loop is end\n",
            "now name1 = 4\n",
            "4  x  1  =  4\n",
            "4  x  2  =  8\n",
            "4  x  3  =  12\n",
            "4  x  4  =  16\n",
            "4  x  5  =  20\n",
            "4  x  6  =  24\n",
            "4  x  7  =  28\n",
            "4  x  8  =  32\n",
            "4  x  9  =  36\n",
            "4  x  10  =  40\n",
            "4  x  11  =  44\n",
            "4  x  12  =  48\n",
            "the inner loop is end\n"
          ],
          "name": "stdout"
        }
      ]
    },
    {
      "cell_type": "markdown",
      "metadata": {
        "id": "7-FAZit8bPqi"
      },
      "source": [
        "### loop in function\n",
        "#### การวนลูปในฟังก์ชั่น¶"
      ]
    },
    {
      "cell_type": "code",
      "metadata": {
        "id": "S0r5yhbDbPqi"
      },
      "source": [
        "def print_feelings(I,friendS,feeling = 'คิดถึง'):\n",
        "    for friend in friendS:\n",
        "        print(f'{I} {feeling} {friend}')"
      ],
      "execution_count": 24,
      "outputs": []
    },
    {
      "cell_type": "code",
      "metadata": {
        "id": "_oVKj4SRfGS6"
      },
      "source": [
        "list_friends = ['พิแช','พินู','วอนโฮ','ไอเอ็ม','พิกี','มินฮยอก','จูฮอน']"
      ],
      "execution_count": 26,
      "outputs": []
    },
    {
      "cell_type": "code",
      "metadata": {
        "id": "RepVZqu6bPqi",
        "colab": {
          "base_uri": "https://localhost:8080/"
        },
        "outputId": "0498f67e-3362-4d73-81fd-4064d84b407e"
      },
      "source": [
        "print_feelings('พิแช',list_friends)"
      ],
      "execution_count": 27,
      "outputs": [
        {
          "output_type": "stream",
          "text": [
            "พิแช คิดถึง พิแช\n",
            "พิแช คิดถึง พินู\n",
            "พิแช คิดถึง วอนโฮ\n",
            "พิแช คิดถึง ไอเอ็ม\n",
            "พิแช คิดถึง พิกี\n",
            "พิแช คิดถึง มินฮยอก\n",
            "พิแช คิดถึง จูฮอน\n"
          ],
          "name": "stdout"
        }
      ]
    },
    {
      "cell_type": "code",
      "metadata": {
        "id": "P20pDnVaf2vK",
        "colab": {
          "base_uri": "https://localhost:8080/"
        },
        "outputId": "7a79eb3c-da07-4b9b-c2ee-c99df563c390"
      },
      "source": [
        "print_feelings('พิแช',list_friends,feeling='รัก')"
      ],
      "execution_count": 28,
      "outputs": [
        {
          "output_type": "stream",
          "text": [
            "พิแช รัก พิแช\n",
            "พิแช รัก พินู\n",
            "พิแช รัก วอนโฮ\n",
            "พิแช รัก ไอเอ็ม\n",
            "พิแช รัก พิกี\n",
            "พิแช รัก มินฮยอก\n",
            "พิแช รัก จูฮอน\n"
          ],
          "name": "stdout"
        }
      ]
    },
    {
      "cell_type": "code",
      "metadata": {
        "id": "SzHamL8JhKG4",
        "colab": {
          "base_uri": "https://localhost:8080/"
        },
        "outputId": "87e6e735-1f7a-4c64-8130-9f4f28070898"
      },
      "source": [
        "print_feelings('พิแช',list_friends,'รัก')"
      ],
      "execution_count": 29,
      "outputs": [
        {
          "output_type": "stream",
          "text": [
            "พิแช รัก พิแช\n",
            "พิแช รัก พินู\n",
            "พิแช รัก วอนโฮ\n",
            "พิแช รัก ไอเอ็ม\n",
            "พิแช รัก พิกี\n",
            "พิแช รัก มินฮยอก\n",
            "พิแช รัก จูฮอน\n"
          ],
          "name": "stdout"
        }
      ]
    },
    {
      "cell_type": "markdown",
      "metadata": {
        "id": "vwK7RmRJbPqj"
      },
      "source": [
        "### looping in dict\n",
        "#### ทำการวนลูปในค่า dict โดยที่เรากำหนดตัว key และvalueขึ้นมา ได้ดังนี้\n"
      ]
    },
    {
      "cell_type": "code",
      "metadata": {
        "id": "HI0F-4HobPqj",
        "colab": {
          "base_uri": "https://localhost:8080/"
        },
        "outputId": "0a1bb96e-d0d0-415d-ee52-ebe5e8fb46ec"
      },
      "source": [
        "name_grade = {'วรภพ' : 'B','วีนัส' : 'C','อีจงซอก' : 'A','ซันจิ' : 'F'}\n",
        "name_grade "
      ],
      "execution_count": 30,
      "outputs": [
        {
          "output_type": "execute_result",
          "data": {
            "text/plain": [
              "{'ซันจิ': 'F', 'วรภพ': 'B', 'วีนัส': 'C', 'อีจงซอก': 'A'}"
            ]
          },
          "metadata": {
            "tags": []
          },
          "execution_count": 30
        }
      ]
    },
    {
      "cell_type": "code",
      "metadata": {
        "id": "jWf8aBmpbPqj",
        "colab": {
          "base_uri": "https://localhost:8080/",
          "height": 35
        },
        "outputId": "ef86457e-75b4-4d29-ae23-a4c8e52997d6"
      },
      "source": [
        "name_grade['อีจงซอก']"
      ],
      "execution_count": 31,
      "outputs": [
        {
          "output_type": "execute_result",
          "data": {
            "application/vnd.google.colaboratory.intrinsic+json": {
              "type": "string"
            },
            "text/plain": [
              "'A'"
            ]
          },
          "metadata": {
            "tags": []
          },
          "execution_count": 31
        }
      ]
    },
    {
      "cell_type": "code",
      "metadata": {
        "scrolled": true,
        "id": "eDqhoebhbPqj",
        "colab": {
          "base_uri": "https://localhost:8080/"
        },
        "outputId": "e38e189c-60b6-4405-dec1-a04492684a8f"
      },
      "source": [
        "for i in name_grade.keys():\n",
        "    print(i)"
      ],
      "execution_count": 32,
      "outputs": [
        {
          "output_type": "stream",
          "text": [
            "วรภพ\n",
            "วีนัส\n",
            "อีจงซอก\n",
            "ซันจิ\n"
          ],
          "name": "stdout"
        }
      ]
    },
    {
      "cell_type": "code",
      "metadata": {
        "id": "4CPaOKx-bPqj",
        "colab": {
          "base_uri": "https://localhost:8080/"
        },
        "outputId": "5ab7f061-5843-4197-f28d-16b482697f45"
      },
      "source": [
        "name_grade.keys()"
      ],
      "execution_count": 33,
      "outputs": [
        {
          "output_type": "execute_result",
          "data": {
            "text/plain": [
              "dict_keys(['วรภพ', 'วีนัส', 'อีจงซอก', 'ซันจิ'])"
            ]
          },
          "metadata": {
            "tags": []
          },
          "execution_count": 33
        }
      ]
    },
    {
      "cell_type": "code",
      "metadata": {
        "id": "Imvq4faObPqj",
        "colab": {
          "base_uri": "https://localhost:8080/"
        },
        "outputId": "8997f734-121d-4b10-b4f7-ce9b0877e09f"
      },
      "source": [
        "for i in name_grade.keys():\n",
        "    print(f'{i} ได้เกรด {name_grade[i]}')"
      ],
      "execution_count": 34,
      "outputs": [
        {
          "output_type": "stream",
          "text": [
            "วรภพ ได้เกรด B\n",
            "วีนัส ได้เกรด C\n",
            "อีจงซอก ได้เกรด A\n",
            "ซันจิ ได้เกรด F\n"
          ],
          "name": "stdout"
        }
      ]
    },
    {
      "cell_type": "markdown",
      "metadata": {
        "id": "pLDGW8IobPqk"
      },
      "source": [
        "### conditional คือ เงื่อนไข /ประโยคเงื่อนไข"
      ]
    },
    {
      "cell_type": "markdown",
      "metadata": {
        "id": "8_-zCLkrbPqk"
      },
      "source": [
        "##### True / False\n",
        "##### การวนลูปโดยมีเงื่อนไขต่างๆมาเกี่ยวข้อง โดยมี pattern ดังนี้\n"
      ]
    },
    {
      "cell_type": "markdown",
      "metadata": {
        "id": "ZQuWb-bybPqk"
      },
      "source": [
        "```Python\n",
        "if condition1 :\n",
        "    do something\n",
        "elif condition2 :  #elif คือ else if\n",
        "    do another thing\n",
        "else:\n",
        "    do ...\n",
        "```\n",
        "    "
      ]
    },
    {
      "cell_type": "code",
      "metadata": {
        "id": "6md22aPOlKWX",
        "colab": {
          "base_uri": "https://localhost:8080/"
        },
        "outputId": "6638d30f-bc21-499d-8e21-68fa8164605c"
      },
      "source": [
        "print(list_friends)"
      ],
      "execution_count": 35,
      "outputs": [
        {
          "output_type": "stream",
          "text": [
            "['พิแช', 'พินู', 'วอนโฮ', 'ไอเอ็ม', 'พิกี', 'มินฮยอก', 'จูฮอน']\n"
          ],
          "name": "stdout"
        }
      ]
    },
    {
      "cell_type": "code",
      "metadata": {
        "id": "NsHtmTbjbPqk",
        "colab": {
          "base_uri": "https://localhost:8080/"
        },
        "outputId": "7e1748ed-9eda-427a-f2a3-936cd64d9235"
      },
      "source": [
        "for name1 in list_friends :\n",
        "    for name2 in list_friends :\n",
        "            print(name1,'รัก',name2)"
      ],
      "execution_count": 36,
      "outputs": [
        {
          "output_type": "stream",
          "text": [
            "พิแช รัก พิแช\n",
            "พิแช รัก พินู\n",
            "พิแช รัก วอนโฮ\n",
            "พิแช รัก ไอเอ็ม\n",
            "พิแช รัก พิกี\n",
            "พิแช รัก มินฮยอก\n",
            "พิแช รัก จูฮอน\n",
            "พินู รัก พิแช\n",
            "พินู รัก พินู\n",
            "พินู รัก วอนโฮ\n",
            "พินู รัก ไอเอ็ม\n",
            "พินู รัก พิกี\n",
            "พินู รัก มินฮยอก\n",
            "พินู รัก จูฮอน\n",
            "วอนโฮ รัก พิแช\n",
            "วอนโฮ รัก พินู\n",
            "วอนโฮ รัก วอนโฮ\n",
            "วอนโฮ รัก ไอเอ็ม\n",
            "วอนโฮ รัก พิกี\n",
            "วอนโฮ รัก มินฮยอก\n",
            "วอนโฮ รัก จูฮอน\n",
            "ไอเอ็ม รัก พิแช\n",
            "ไอเอ็ม รัก พินู\n",
            "ไอเอ็ม รัก วอนโฮ\n",
            "ไอเอ็ม รัก ไอเอ็ม\n",
            "ไอเอ็ม รัก พิกี\n",
            "ไอเอ็ม รัก มินฮยอก\n",
            "ไอเอ็ม รัก จูฮอน\n",
            "พิกี รัก พิแช\n",
            "พิกี รัก พินู\n",
            "พิกี รัก วอนโฮ\n",
            "พิกี รัก ไอเอ็ม\n",
            "พิกี รัก พิกี\n",
            "พิกี รัก มินฮยอก\n",
            "พิกี รัก จูฮอน\n",
            "มินฮยอก รัก พิแช\n",
            "มินฮยอก รัก พินู\n",
            "มินฮยอก รัก วอนโฮ\n",
            "มินฮยอก รัก ไอเอ็ม\n",
            "มินฮยอก รัก พิกี\n",
            "มินฮยอก รัก มินฮยอก\n",
            "มินฮยอก รัก จูฮอน\n",
            "จูฮอน รัก พิแช\n",
            "จูฮอน รัก พินู\n",
            "จูฮอน รัก วอนโฮ\n",
            "จูฮอน รัก ไอเอ็ม\n",
            "จูฮอน รัก พิกี\n",
            "จูฮอน รัก มินฮยอก\n",
            "จูฮอน รัก จูฮอน\n"
          ],
          "name": "stdout"
        }
      ]
    },
    {
      "cell_type": "code",
      "metadata": {
        "id": "AR68KQ09lWu5",
        "colab": {
          "base_uri": "https://localhost:8080/"
        },
        "outputId": "2ec6c018-ad06-4762-8b24-1ffd91c608bf"
      },
      "source": [
        "for name1 in list_friends:\n",
        "    for name2 in list_friends:\n",
        "        if name1 != name2: #ไม่ปริ้นชื่อคนเดียวกันซ้ำ\n",
        "            print(name1,'รัก',name2)"
      ],
      "execution_count": 37,
      "outputs": [
        {
          "output_type": "stream",
          "text": [
            "พิแช รัก พินู\n",
            "พิแช รัก วอนโฮ\n",
            "พิแช รัก ไอเอ็ม\n",
            "พิแช รัก พิกี\n",
            "พิแช รัก มินฮยอก\n",
            "พิแช รัก จูฮอน\n",
            "พินู รัก พิแช\n",
            "พินู รัก วอนโฮ\n",
            "พินู รัก ไอเอ็ม\n",
            "พินู รัก พิกี\n",
            "พินู รัก มินฮยอก\n",
            "พินู รัก จูฮอน\n",
            "วอนโฮ รัก พิแช\n",
            "วอนโฮ รัก พินู\n",
            "วอนโฮ รัก ไอเอ็ม\n",
            "วอนโฮ รัก พิกี\n",
            "วอนโฮ รัก มินฮยอก\n",
            "วอนโฮ รัก จูฮอน\n",
            "ไอเอ็ม รัก พิแช\n",
            "ไอเอ็ม รัก พินู\n",
            "ไอเอ็ม รัก วอนโฮ\n",
            "ไอเอ็ม รัก พิกี\n",
            "ไอเอ็ม รัก มินฮยอก\n",
            "ไอเอ็ม รัก จูฮอน\n",
            "พิกี รัก พิแช\n",
            "พิกี รัก พินู\n",
            "พิกี รัก วอนโฮ\n",
            "พิกี รัก ไอเอ็ม\n",
            "พิกี รัก มินฮยอก\n",
            "พิกี รัก จูฮอน\n",
            "มินฮยอก รัก พิแช\n",
            "มินฮยอก รัก พินู\n",
            "มินฮยอก รัก วอนโฮ\n",
            "มินฮยอก รัก ไอเอ็ม\n",
            "มินฮยอก รัก พิกี\n",
            "มินฮยอก รัก จูฮอน\n",
            "จูฮอน รัก พิแช\n",
            "จูฮอน รัก พินู\n",
            "จูฮอน รัก วอนโฮ\n",
            "จูฮอน รัก ไอเอ็ม\n",
            "จูฮอน รัก พิกี\n",
            "จูฮอน รัก มินฮยอก\n"
          ],
          "name": "stdout"
        }
      ]
    },
    {
      "cell_type": "code",
      "metadata": {
        "id": "agEHNNiQl5Kf",
        "colab": {
          "base_uri": "https://localhost:8080/"
        },
        "outputId": "b4c80a49-3a9b-42c5-abff-263d5571682f"
      },
      "source": [
        "for name1 in list_friends:\n",
        "    for name2 in list_friends:\n",
        "        if name1 == name2: #ปริ้นชื่อคนเดียวกันซ้ำ\n",
        "            print(name1,'รัก',name2)"
      ],
      "execution_count": 38,
      "outputs": [
        {
          "output_type": "stream",
          "text": [
            "พิแช รัก พิแช\n",
            "พินู รัก พินู\n",
            "วอนโฮ รัก วอนโฮ\n",
            "ไอเอ็ม รัก ไอเอ็ม\n",
            "พิกี รัก พิกี\n",
            "มินฮยอก รัก มินฮยอก\n",
            "จูฮอน รัก จูฮอน\n"
          ],
          "name": "stdout"
        }
      ]
    },
    {
      "cell_type": "code",
      "metadata": {
        "id": "zwaS_D0kmFPD",
        "colab": {
          "base_uri": "https://localhost:8080/"
        },
        "outputId": "c9fad092-1c61-4693-9e5e-232e9817ca80"
      },
      "source": [
        "for name1 in list_friends:\n",
        "    for name2 in list_friends:\n",
        "        if name1 == name2: \n",
        "            'do nothing'\n",
        "        else:\n",
        "            print(name1,'รัก',name2)"
      ],
      "execution_count": 39,
      "outputs": [
        {
          "output_type": "stream",
          "text": [
            "พิแช รัก พินู\n",
            "พิแช รัก วอนโฮ\n",
            "พิแช รัก ไอเอ็ม\n",
            "พิแช รัก พิกี\n",
            "พิแช รัก มินฮยอก\n",
            "พิแช รัก จูฮอน\n",
            "พินู รัก พิแช\n",
            "พินู รัก วอนโฮ\n",
            "พินู รัก ไอเอ็ม\n",
            "พินู รัก พิกี\n",
            "พินู รัก มินฮยอก\n",
            "พินู รัก จูฮอน\n",
            "วอนโฮ รัก พิแช\n",
            "วอนโฮ รัก พินู\n",
            "วอนโฮ รัก ไอเอ็ม\n",
            "วอนโฮ รัก พิกี\n",
            "วอนโฮ รัก มินฮยอก\n",
            "วอนโฮ รัก จูฮอน\n",
            "ไอเอ็ม รัก พิแช\n",
            "ไอเอ็ม รัก พินู\n",
            "ไอเอ็ม รัก วอนโฮ\n",
            "ไอเอ็ม รัก พิกี\n",
            "ไอเอ็ม รัก มินฮยอก\n",
            "ไอเอ็ม รัก จูฮอน\n",
            "พิกี รัก พิแช\n",
            "พิกี รัก พินู\n",
            "พิกี รัก วอนโฮ\n",
            "พิกี รัก ไอเอ็ม\n",
            "พิกี รัก มินฮยอก\n",
            "พิกี รัก จูฮอน\n",
            "มินฮยอก รัก พิแช\n",
            "มินฮยอก รัก พินู\n",
            "มินฮยอก รัก วอนโฮ\n",
            "มินฮยอก รัก ไอเอ็ม\n",
            "มินฮยอก รัก พิกี\n",
            "มินฮยอก รัก จูฮอน\n",
            "จูฮอน รัก พิแช\n",
            "จูฮอน รัก พินู\n",
            "จูฮอน รัก วอนโฮ\n",
            "จูฮอน รัก ไอเอ็ม\n",
            "จูฮอน รัก พิกี\n",
            "จูฮอน รัก มินฮยอก\n"
          ],
          "name": "stdout"
        }
      ]
    },
    {
      "cell_type": "markdown",
      "metadata": {
        "id": "kUPdCRG7bPqk"
      },
      "source": [
        "#### ==, !=,>=,<=,<,>"
      ]
    },
    {
      "cell_type": "code",
      "metadata": {
        "id": "p4IXGFYDm_e-",
        "colab": {
          "base_uri": "https://localhost:8080/"
        },
        "outputId": "046b406b-44d6-497d-8891-953a0e050a63"
      },
      "source": [
        "'พิแช' == 'วอนโฮ'"
      ],
      "execution_count": 40,
      "outputs": [
        {
          "output_type": "execute_result",
          "data": {
            "text/plain": [
              "False"
            ]
          },
          "metadata": {
            "tags": []
          },
          "execution_count": 40
        }
      ]
    },
    {
      "cell_type": "code",
      "metadata": {
        "id": "yXA87OOmnH4A",
        "colab": {
          "base_uri": "https://localhost:8080/"
        },
        "outputId": "e41900ab-5cc6-42c9-dd5a-474a58fae713"
      },
      "source": [
        "'พิแช' != 'พินู'"
      ],
      "execution_count": 41,
      "outputs": [
        {
          "output_type": "execute_result",
          "data": {
            "text/plain": [
              "True"
            ]
          },
          "metadata": {
            "tags": []
          },
          "execution_count": 41
        }
      ]
    },
    {
      "cell_type": "markdown",
      "metadata": {
        "id": "OavN4AjAbPqk"
      },
      "source": [
        "#### หากหลังเงื่อนไข True ถูกต้องจะทำการ print ข้อความออกมาว่า Yes"
      ]
    },
    {
      "cell_type": "code",
      "metadata": {
        "id": "QPxAQKm4bPql",
        "colab": {
          "base_uri": "https://localhost:8080/"
        },
        "outputId": "32f3cfcf-3329-478c-e1dc-c0ab85c928a9"
      },
      "source": [
        "if True:\n",
        "    print('Yes')"
      ],
      "execution_count": 42,
      "outputs": [
        {
          "output_type": "stream",
          "text": [
            "Yes\n"
          ],
          "name": "stdout"
        }
      ]
    },
    {
      "cell_type": "code",
      "metadata": {
        "id": "tqdBRcVSbPql"
      },
      "source": [
        "if False:\n",
        "    print('No')"
      ],
      "execution_count": 43,
      "outputs": []
    },
    {
      "cell_type": "markdown",
      "metadata": {
        "id": "_9xpvw3jbPql"
      },
      "source": [
        "#### หากหลังเงื่อนไข False ไม่ถูกต้องจะไม่ปริ้นข้อความใดๆออกมา\n",
        "#### ซึ่งจะต้องใช้เงื่อนไขนี้ จึงจะได้ปริ้นค่าเงื่อนไขนั้นออกมา ดังนี้"
      ]
    },
    {
      "cell_type": "code",
      "metadata": {
        "id": "1e0IcdsMbPql",
        "colab": {
          "base_uri": "https://localhost:8080/"
        },
        "outputId": "3b1813fe-89fb-4f56-b2b3-07511a717f02"
      },
      "source": [
        "if False:\n",
        "    print('Yes')\n",
        "else:\n",
        "    print('No')"
      ],
      "execution_count": 44,
      "outputs": [
        {
          "output_type": "stream",
          "text": [
            "No\n"
          ],
          "name": "stdout"
        }
      ]
    },
    {
      "cell_type": "markdown",
      "metadata": {
        "id": "sSySEFHNbPql"
      },
      "source": [
        "# HW\n",
        "#### เขียน function ตัดเกรด โดยที่ input เป็นคะแนน(0-100) , output เป็นเกรด (F-A)\n",
        "#### วนลูปตัดเกรด input = [1,50,65,90,101,-5,49]"
      ]
    },
    {
      "cell_type": "markdown",
      "metadata": {
        "id": "c3TDhZHzbPqm"
      },
      "source": [
        "##### กำหนด\n",
        "      ถ้าคะแนนอยู่ระหว่างมากกว่าหรือเท่ากับ  0  แต่น้อยกว่า 50 จะได้เกรด F\n",
        "      ถ้าคะแนนอยู่ระหว่างมากกว่าหรือเท่ากับ 50 แต่น้อยกว่า 55 จะได้เกรด D\n",
        "      ถ้าคะแนนอยู่ระหว่างมากกว่าหรือเท่ากับ 55 แต่น้อยกว่า 60 จะได้เกรด D+\n",
        "      ถ้าคะแนนอยู่ระหว่างมากกว่าหรือเท่ากับ 60 แต่น้อยกว่า 65 จะได้เกรด C\n",
        "      ถ้าคะแนนอยู่ระหว่างมากกว่าหรือเท่ากับ 65 แต่น้อยกว่า 70 จะได้เกรด C+\n",
        "      ถ้าคะแนนอยู่ระหว่างมากกว่าหรือเท่ากับ 70 แต่น้อยกว่า 75 จะได้เกรด B\n",
        "      ถ้าคะแนนอยู่ระหว่างมากกว่าหรือเท่ากับ 75 แต่น้อยกว่า 80 จะได้เกรด B+\n",
        "      ถ้าคะแนนอยู่ระหว่างมากกว่าหรือเท่ากับ 80  จะได้เกรด A\n",
        "      แต่ว่าค่าคะแนนจะต้องไม่ต่ำกว่า 0 และมากกว่า 100 ไม่งั้นจะเกิด error"
      ]
    },
    {
      "cell_type": "markdown",
      "metadata": {
        "id": "Bg3vVE3GbPqn"
      },
      "source": [
        "# Finish"
      ]
    },
    {
      "cell_type": "code",
      "metadata": {
        "id": "QcWYjlgdm-6o"
      },
      "source": [
        "def grade(score):\n",
        "  if score < 0 :\n",
        "    print(f'error ค่าคะแนนต่ำกว่า 0')\n",
        "  if score >= 0 and score < 50:\n",
        "    print(f'นักศึกษามีคะแนนเท่ากับ {score} คะแนน  ได้เกรด F')\n",
        "  if score >= 50 and score < 55:\n",
        "    print(f'นักศึกษามีคะแนนเท่ากับ {score} คะแนน  ได้เกรด D')\n",
        "  if score >= 55 and score < 60:\n",
        "    print(f'นักศึกษามีคะแนนเท่ากับ {score} คะแนน  ได้เกรด D+')\n",
        "  if score >= 60 and score < 65:\n",
        "    print(f'นักศึกษามีคะแนนเท่ากับ {score} คะแนน  ได้เกรด C')\n",
        "  if score >= 65 and score < 70:\n",
        "    print(f'นักศึกษามีคะแนนเท่ากับ {score} คะแนน  ได้เกรด C+')\n",
        "  if score >= 70 and score < 75:\n",
        "    print(f'นักศึกษามีคะแนนเท่ากับ {score} คะแนน  ได้เกรด B')\n",
        "  if score >= 75 and score < 80:\n",
        "    print(f'นักศึกษามีคะแนนเท่ากับ {score} คะแนน  ได้เกรด B+')\n",
        "  if score >= 80 and score < 100:\n",
        "    print(f'นักศึกษามีคะแนนเท่ากับ {score} คะแนน  ได้เกรด A')\n",
        "  if score >= 100 :\n",
        "    print(f'error ค่าคะแนนมากกว่า 100')"
      ],
      "execution_count": 45,
      "outputs": []
    },
    {
      "cell_type": "code",
      "metadata": {
        "colab": {
          "base_uri": "https://localhost:8080/"
        },
        "id": "Aoz_Ba_FnBza",
        "outputId": "e4fff028-4fa8-4be8-cdf9-b9f958fd6ba0"
      },
      "source": [
        "input = [1,50,65,90,101,-5,49]\n",
        "for score in input:\n",
        "  grade(score)"
      ],
      "execution_count": 46,
      "outputs": [
        {
          "output_type": "stream",
          "text": [
            "นักศึกษามีคะแนนเท่ากับ 1 คะแนน  ได้เกรด F\n",
            "นักศึกษามีคะแนนเท่ากับ 50 คะแนน  ได้เกรด D\n",
            "นักศึกษามีคะแนนเท่ากับ 65 คะแนน  ได้เกรด C+\n",
            "นักศึกษามีคะแนนเท่ากับ 90 คะแนน  ได้เกรด A\n",
            "error ค่าคะแนนมากกว่า 100\n",
            "error ค่าคะแนนต่ำกว่า 0\n",
            "นักศึกษามีคะแนนเท่ากับ 49 คะแนน  ได้เกรด F\n"
          ],
          "name": "stdout"
        }
      ]
    }
  ]
}