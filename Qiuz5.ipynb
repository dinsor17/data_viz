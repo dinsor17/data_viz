{
  "nbformat": 4,
  "nbformat_minor": 0,
  "metadata": {
    "colab": {
      "name": "Qiuz5.ipynb",
      "provenance": [],
      "authorship_tag": "ABX9TyOUZLwhHlMsOdSG0HY2xJ3+",
      "include_colab_link": true
    },
    "kernelspec": {
      "name": "python3",
      "display_name": "Python 3"
    },
    "language_info": {
      "name": "python"
    }
  },
  "cells": [
    {
      "cell_type": "markdown",
      "metadata": {
        "id": "view-in-github",
        "colab_type": "text"
      },
      "source": [
        "<a href=\"https://colab.research.google.com/github/dinsor17/data_viz/blob/main/Qiuz5.ipynb\" target=\"_parent\"><img src=\"https://colab.research.google.com/assets/colab-badge.svg\" alt=\"Open In Colab\"/></a>"
      ]
    },
    {
      "cell_type": "markdown",
      "metadata": {
        "id": "CcyLZ4MPzFmF"
      },
      "source": [
        "###เปรียบเทียบเวลาเฉลี่ยที่ใช้ในการกดเลือกร้าน 'time_diff_nanos' ระหว่างช่วงเวลา 10.00-10.59 กับ 23.00-23.59 เวลาไหนมี 'time_diff_nanos'  น้อยกว่ากัน"
      ]
    },
    {
      "cell_type": "code",
      "metadata": {
        "id": "V6pE3VN6uxgG"
      },
      "source": [
        "import pandas as pd"
      ],
      "execution_count": 1,
      "outputs": []
    },
    {
      "cell_type": "code",
      "metadata": {
        "colab": {
          "base_uri": "https://localhost:8080/"
        },
        "id": "Mi4Qz1lLvEF7",
        "outputId": "8ce9975a-9997-4b42-ddfe-4698b5bba9e4"
      },
      "source": [
        "from google.colab import drive\n",
        "drive.mount('/content/drive')"
      ],
      "execution_count": 2,
      "outputs": [
        {
          "output_type": "stream",
          "text": [
            "Mounted at /content/drive\n"
          ],
          "name": "stdout"
        }
      ]
    },
    {
      "cell_type": "code",
      "metadata": {
        "id": "3vBmq_lKvGoW"
      },
      "source": [
        "import os #ทำงานการจัดการไฟล์ \n",
        "path = '/content/drive/My Drive/dataviz_2021_data'"
      ],
      "execution_count": 3,
      "outputs": []
    },
    {
      "cell_type": "code",
      "metadata": {
        "colab": {
          "base_uri": "https://localhost:8080/"
        },
        "id": "lF_f4MePvJYG",
        "outputId": "9bb0d5c7-7ca5-4aff-f44d-61df92cb0b49"
      },
      "source": [
        "file_path = os.path.join(path,'search_click.csv') \n",
        "print(file_path)"
      ],
      "execution_count": 7,
      "outputs": [
        {
          "output_type": "stream",
          "text": [
            "/content/drive/My Drive/dataviz_2021_data/search_click.csv\n"
          ],
          "name": "stdout"
        }
      ]
    },
    {
      "cell_type": "code",
      "metadata": {
        "colab": {
          "base_uri": "https://localhost:8080/",
          "height": 202
        },
        "id": "V-vZ_uTWviQ0",
        "outputId": "d0ce362c-d3d8-4c7f-eb86-cdf1b2a78ba5"
      },
      "source": [
        "search_click_df = pd.read_csv(search_click)\n",
        "search_click_df.head()"
      ],
      "execution_count": 13,
      "outputs": [
        {
          "output_type": "execute_result",
          "data": {
            "text/html": [
              "<div>\n",
              "<style scoped>\n",
              "    .dataframe tbody tr th:only-of-type {\n",
              "        vertical-align: middle;\n",
              "    }\n",
              "\n",
              "    .dataframe tbody tr th {\n",
              "        vertical-align: top;\n",
              "    }\n",
              "\n",
              "    .dataframe thead th {\n",
              "        text-align: right;\n",
              "    }\n",
              "</style>\n",
              "<table border=\"1\" class=\"dataframe\">\n",
              "  <thead>\n",
              "    <tr style=\"text-align: right;\">\n",
              "      <th></th>\n",
              "      <th>click_timestamp</th>\n",
              "      <th>search_id</th>\n",
              "      <th>business_id</th>\n",
              "      <th>display_position</th>\n",
              "      <th>time_diff_nanos</th>\n",
              "      <th>ads</th>\n",
              "    </tr>\n",
              "  </thead>\n",
              "  <tbody>\n",
              "    <tr>\n",
              "      <th>0</th>\n",
              "      <td>11:38.9</td>\n",
              "      <td>5c004472-5ecc-4159-9698-9f329b8e26e1</td>\n",
              "      <td>298839.0</td>\n",
              "      <td>0</td>\n",
              "      <td>2.222400e+15</td>\n",
              "      <td>True</td>\n",
              "    </tr>\n",
              "    <tr>\n",
              "      <th>1</th>\n",
              "      <td>30:51.3</td>\n",
              "      <td>5f34eca0-c04e-4c10-b600-54aa447dbd8e</td>\n",
              "      <td>171372.0</td>\n",
              "      <td>0</td>\n",
              "      <td>4.608380e+14</td>\n",
              "      <td>True</td>\n",
              "    </tr>\n",
              "    <tr>\n",
              "      <th>2</th>\n",
              "      <td>32:09.6</td>\n",
              "      <td>8dc6d1f0-11f1-4239-9dd2-5c1674c81224</td>\n",
              "      <td>16157.0</td>\n",
              "      <td>0</td>\n",
              "      <td>2.581490e+15</td>\n",
              "      <td>True</td>\n",
              "    </tr>\n",
              "    <tr>\n",
              "      <th>3</th>\n",
              "      <td>00:59.8</td>\n",
              "      <td>1a5810e9-3d1f-44b9-9a2e-26ede21c524b</td>\n",
              "      <td>89741.0</td>\n",
              "      <td>1</td>\n",
              "      <td>1.404580e+15</td>\n",
              "      <td>True</td>\n",
              "    </tr>\n",
              "    <tr>\n",
              "      <th>4</th>\n",
              "      <td>23:36.8</td>\n",
              "      <td>6bc75e0d-fc65-471e-9926-ff6be6708639</td>\n",
              "      <td>189564.0</td>\n",
              "      <td>1</td>\n",
              "      <td>9.333590e+14</td>\n",
              "      <td>True</td>\n",
              "    </tr>\n",
              "  </tbody>\n",
              "</table>\n",
              "</div>"
            ],
            "text/plain": [
              "  click_timestamp                             search_id  ...  time_diff_nanos   ads\n",
              "0         11:38.9  5c004472-5ecc-4159-9698-9f329b8e26e1  ...     2.222400e+15  True\n",
              "1         30:51.3  5f34eca0-c04e-4c10-b600-54aa447dbd8e  ...     4.608380e+14  True\n",
              "2         32:09.6  8dc6d1f0-11f1-4239-9dd2-5c1674c81224  ...     2.581490e+15  True\n",
              "3         00:59.8  1a5810e9-3d1f-44b9-9a2e-26ede21c524b  ...     1.404580e+15  True\n",
              "4         23:36.8  6bc75e0d-fc65-471e-9926-ff6be6708639  ...     9.333590e+14  True\n",
              "\n",
              "[5 rows x 6 columns]"
            ]
          },
          "metadata": {
            "tags": []
          },
          "execution_count": 13
        }
      ]
    },
    {
      "cell_type": "code",
      "metadata": {
        "colab": {
          "base_uri": "https://localhost:8080/",
          "height": 446
        },
        "id": "MxtyDDOr0Fh4",
        "outputId": "d312bc57-fafc-4e0e-b74a-ecb1fa5ee5a2"
      },
      "source": [
        "#เวลาไหนที่มีค่าเฉลี่ยของ 'time_diff_nanos' สูงสุด\n",
        "search_click_df = search_click_df.groupby('click_timestamp').mean().sort_values('time_diff_nanos',ascending=False)\n",
        "search_click_df"
      ],
      "execution_count": 20,
      "outputs": [
        {
          "output_type": "execute_result",
          "data": {
            "text/html": [
              "<div>\n",
              "<style scoped>\n",
              "    .dataframe tbody tr th:only-of-type {\n",
              "        vertical-align: middle;\n",
              "    }\n",
              "\n",
              "    .dataframe tbody tr th {\n",
              "        vertical-align: top;\n",
              "    }\n",
              "\n",
              "    .dataframe thead th {\n",
              "        text-align: right;\n",
              "    }\n",
              "</style>\n",
              "<table border=\"1\" class=\"dataframe\">\n",
              "  <thead>\n",
              "    <tr style=\"text-align: right;\">\n",
              "      <th></th>\n",
              "      <th>business_id</th>\n",
              "      <th>display_position</th>\n",
              "      <th>time_diff_nanos</th>\n",
              "      <th>ads</th>\n",
              "    </tr>\n",
              "    <tr>\n",
              "      <th>click_timestamp</th>\n",
              "      <th></th>\n",
              "      <th></th>\n",
              "      <th></th>\n",
              "      <th></th>\n",
              "    </tr>\n",
              "  </thead>\n",
              "  <tbody>\n",
              "    <tr>\n",
              "      <th>12:41.7</th>\n",
              "      <td>197776.911765</td>\n",
              "      <td>4.176471</td>\n",
              "      <td>1.799409e+17</td>\n",
              "      <td>0.000000</td>\n",
              "    </tr>\n",
              "    <tr>\n",
              "      <th>12:41.6</th>\n",
              "      <td>168540.269231</td>\n",
              "      <td>7.769231</td>\n",
              "      <td>1.712469e+17</td>\n",
              "      <td>0.076923</td>\n",
              "    </tr>\n",
              "    <tr>\n",
              "      <th>01:02.2</th>\n",
              "      <td>172580.391304</td>\n",
              "      <td>6.000000</td>\n",
              "      <td>6.457026e+16</td>\n",
              "      <td>0.041667</td>\n",
              "    </tr>\n",
              "    <tr>\n",
              "      <th>34:41.3</th>\n",
              "      <td>161443.178571</td>\n",
              "      <td>4.793103</td>\n",
              "      <td>5.355945e+16</td>\n",
              "      <td>0.000000</td>\n",
              "    </tr>\n",
              "    <tr>\n",
              "      <th>57:11.8</th>\n",
              "      <td>184139.500000</td>\n",
              "      <td>5.645161</td>\n",
              "      <td>5.036072e+16</td>\n",
              "      <td>0.064516</td>\n",
              "    </tr>\n",
              "    <tr>\n",
              "      <th>...</th>\n",
              "      <td>...</td>\n",
              "      <td>...</td>\n",
              "      <td>...</td>\n",
              "      <td>...</td>\n",
              "    </tr>\n",
              "    <tr>\n",
              "      <th>00:00.0</th>\n",
              "      <td>151391.000000</td>\n",
              "      <td>3.000000</td>\n",
              "      <td>2.648821e+10</td>\n",
              "      <td>0.000000</td>\n",
              "    </tr>\n",
              "    <tr>\n",
              "      <th>09:59.3</th>\n",
              "      <td>224156.333333</td>\n",
              "      <td>9.000000</td>\n",
              "      <td>2.515240e+10</td>\n",
              "      <td>0.000000</td>\n",
              "    </tr>\n",
              "    <tr>\n",
              "      <th>49:59.7</th>\n",
              "      <td>189955.000000</td>\n",
              "      <td>2.000000</td>\n",
              "      <td>2.318459e+10</td>\n",
              "      <td>0.000000</td>\n",
              "    </tr>\n",
              "    <tr>\n",
              "      <th>59:59.9</th>\n",
              "      <td>164598.000000</td>\n",
              "      <td>2.000000</td>\n",
              "      <td>2.130741e+10</td>\n",
              "      <td>0.000000</td>\n",
              "    </tr>\n",
              "    <tr>\n",
              "      <th>29:58.5</th>\n",
              "      <td>171064.000000</td>\n",
              "      <td>1.000000</td>\n",
              "      <td>2.042269e+10</td>\n",
              "      <td>0.000000</td>\n",
              "    </tr>\n",
              "  </tbody>\n",
              "</table>\n",
              "<p>35995 rows × 4 columns</p>\n",
              "</div>"
            ],
            "text/plain": [
              "                   business_id  display_position  time_diff_nanos       ads\n",
              "click_timestamp                                                            \n",
              "12:41.7          197776.911765          4.176471     1.799409e+17  0.000000\n",
              "12:41.6          168540.269231          7.769231     1.712469e+17  0.076923\n",
              "01:02.2          172580.391304          6.000000     6.457026e+16  0.041667\n",
              "34:41.3          161443.178571          4.793103     5.355945e+16  0.000000\n",
              "57:11.8          184139.500000          5.645161     5.036072e+16  0.064516\n",
              "...                        ...               ...              ...       ...\n",
              "00:00.0          151391.000000          3.000000     2.648821e+10  0.000000\n",
              "09:59.3          224156.333333          9.000000     2.515240e+10  0.000000\n",
              "49:59.7          189955.000000          2.000000     2.318459e+10  0.000000\n",
              "59:59.9          164598.000000          2.000000     2.130741e+10  0.000000\n",
              "29:58.5          171064.000000          1.000000     2.042269e+10  0.000000\n",
              "\n",
              "[35995 rows x 4 columns]"
            ]
          },
          "metadata": {
            "tags": []
          },
          "execution_count": 20
        }
      ]
    },
    {
      "cell_type": "code",
      "metadata": {
        "id": "LnxP1gBN2WBm"
      },
      "source": [
        "#หาราคาเฉลี่ยเวลาช่วง 10:00\n",
        "search_click = search_click_df[search_click_df['click_timestamp']=='10:00.0'].dropna()['time_diff_nanos\t'].mean()"
      ],
      "execution_count": null,
      "outputs": []
    }
  ]
}