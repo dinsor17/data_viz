{
  "nbformat": 4,
  "nbformat_minor": 0,
  "metadata": {
    "colab": {
      "name": "Function_Loop_Condition .ipynb",
      "provenance": [],
      "authorship_tag": "ABX9TyOtsB0DP6ULumbfz9vIkxb4",
      "include_colab_link": true
    },
    "kernelspec": {
      "name": "python3",
      "display_name": "Python 3"
    }
  },
  "cells": [
    {
      "cell_type": "markdown",
      "metadata": {
        "id": "view-in-github",
        "colab_type": "text"
      },
      "source": [
        "<a href=\"https://colab.research.google.com/github/dinsor17/data_viz/blob/main/Function_Loop_Condition_.ipynb\" target=\"_parent\"><img src=\"https://colab.research.google.com/assets/colab-badge.svg\" alt=\"Open In Colab\"/></a>"
      ]
    },
    {
      "cell_type": "markdown",
      "metadata": {
        "id": "NtAleMWchYIR"
      },
      "source": [
        "###def คือการกำหนดฟังก์ชัน"
      ]
    },
    {
      "cell_type": "code",
      "metadata": {
        "id": "PajctrKXhO5Q"
      },
      "source": [
        "def function_name()\r\n",
        "\r\n",
        "backtick (`)\r\n",
        "tide ()\r\n",
        "curly bracket ({})\r\n",
        "squ"
      ],
      "execution_count": null,
      "outputs": []
    },
    {
      "cell_type": "markdown",
      "metadata": {
        "id": "JNGgLjeFny0F"
      },
      "source": [
        "##ตย.การเขียน normal function"
      ]
    },
    {
      "cell_type": "code",
      "metadata": {
        "id": "i_uy7Lbdkn-t"
      },
      "source": [
        "def print_name(surname,ID,name) :\r\n",
        "      st = f'ชื่อ {name} นามสกุล {surname} รหัส {ID}'\r\n",
        "      return st"
      ],
      "execution_count": 4,
      "outputs": []
    },
    {
      "cell_type": "code",
      "metadata": {
        "colab": {
          "base_uri": "https://localhost:8080/",
          "height": 35
        },
        "id": "tnJC8MLClNUC",
        "outputId": "88629de9-8105-4130-e927-27fced46e279"
      },
      "source": [
        "print_name('แสงพระจันทร์','613020614-0','นารินทร์')"
      ],
      "execution_count": 5,
      "outputs": [
        {
          "output_type": "execute_result",
          "data": {
            "application/vnd.google.colaboratory.intrinsic+json": {
              "type": "string"
            },
            "text/plain": [
              "'ชื่อ นารินทร์ นามสกุล แสงพระจันทร์ รหัส 613020614-0'"
            ]
          },
          "metadata": {
            "tags": []
          },
          "execution_count": 5
        }
      ]
    },
    {
      "cell_type": "code",
      "metadata": {
        "colab": {
          "base_uri": "https://localhost:8080/"
        },
        "id": "QOvwFZPnoF9k",
        "outputId": "e6d9737a-5712-4d06-c3b7-8480d83956cb"
      },
      "source": [
        "print(print_name(surname = 'แสงพระจันทร์',name = 'นารินทร์',ID = '613020614-0'))"
      ],
      "execution_count": 9,
      "outputs": [
        {
          "output_type": "stream",
          "text": [
            "ชื่อ นารินทร์ นามสกุล แสงพระจันทร์ รหัส 613020614-0\n"
          ],
          "name": "stdout"
        }
      ]
    },
    {
      "cell_type": "markdown",
      "metadata": {
        "id": "9BLLoZsQpXEx"
      },
      "source": [
        "เราใช้ เว้นวรรค (indent) เพื่อบอกขอบเขตของโปรแกรม"
      ]
    },
    {
      "cell_type": "code",
      "metadata": {
        "id": "E8BZF36opH8m"
      },
      "source": [
        "def print_name2(surname,ID,name) :\r\n",
        "      st = f'ชื่อ {name} นามสกุล {surname} รหัส {ID}'\r\n",
        "      return (st)"
      ],
      "execution_count": 7,
      "outputs": []
    },
    {
      "cell_type": "code",
      "metadata": {
        "colab": {
          "base_uri": "https://localhost:8080/",
          "height": 34
        },
        "id": "dQvVJ5JZpvE-",
        "outputId": "41da4b1a-89c4-4ff6-d4f4-0b2823c18fa8"
      },
      "source": [
        "print_name2(surname = 'แสงพระจันทร์',name = 'นารินทร์',ID = '613020614-0')"
      ],
      "execution_count": 10,
      "outputs": [
        {
          "output_type": "execute_result",
          "data": {
            "application/vnd.google.colaboratory.intrinsic+json": {
              "type": "string"
            },
            "text/plain": [
              "'ชื่อ นารินทร์ นามสกุล แสงพระจันทร์ รหัส 613020614-0'"
            ]
          },
          "metadata": {
            "tags": []
          },
          "execution_count": 10
        }
      ]
    },
    {
      "cell_type": "markdown",
      "metadata": {
        "id": "LcJIRkC5qgZz"
      },
      "source": [
        "ฟังก์ชั่นไม่จำเป็นต้องมี input"
      ]
    },
    {
      "cell_type": "code",
      "metadata": {
        "id": "zJa8IPUIqgAd"
      },
      "source": [
        "def Pi() :\r\n",
        "      return 3.14159265359"
      ],
      "execution_count": 11,
      "outputs": []
    },
    {
      "cell_type": "code",
      "metadata": {
        "colab": {
          "base_uri": "https://localhost:8080/"
        },
        "id": "wElMzyinq-2M",
        "outputId": "6857a344-c0b3-47f1-f348-8f9b86958bec"
      },
      "source": [
        "Pi()*(2**2) #หาพท.วงกลม r^2   ปล. ** คือยกกำลัง"
      ],
      "execution_count": 12,
      "outputs": [
        {
          "output_type": "execute_result",
          "data": {
            "text/plain": [
              "12.56637061436"
            ]
          },
          "metadata": {
            "tags": []
          },
          "execution_count": 12
        }
      ]
    },
    {
      "cell_type": "markdown",
      "metadata": {
        "id": "U2O7Cj6mrtPg"
      },
      "source": [
        "เราสามารถกำหนดค่า default ให้กับฟังก์ชั่นได้"
      ]
    },
    {
      "cell_type": "code",
      "metadata": {
        "id": "3EvoR682r4EK"
      },
      "source": [
        "def print_2lines_default(name,surname,ID,grade='F'):\r\n",
        "      st1 = f'ชื่อ {name} นามสกุล {surname} รหัส {ID}'\r\n",
        "      return (st1)\r\n",
        "      st2=f'เกรดวิชา Data Viz >>> {grade}'\r\n",
        "      print(st2)"
      ],
      "execution_count": 20,
      "outputs": []
    },
    {
      "cell_type": "markdown",
      "metadata": {
        "id": "6xPsaVDc1Zrj"
      },
      "source": [
        "คำสั่ง for เป็นคำสั่งวนซ้ำที่ใช้ควบคุมการทำงานซ้ำๆ ในจำนวนรอบที่แน่นอน"
      ]
    },
    {
      "cell_type": "code",
      "metadata": {
        "id": "WQ9A6uW11mXx"
      },
      "source": [
        ""
      ],
      "execution_count": null,
      "outputs": []
    }
  ]
}