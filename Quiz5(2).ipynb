{
  "nbformat": 4,
  "nbformat_minor": 0,
  "metadata": {
    "colab": {
      "name": "Quiz5(2).ipynb",
      "provenance": [],
      "authorship_tag": "ABX9TyNMgbsr540pg+mI/osbFqBR",
      "include_colab_link": true
    },
    "kernelspec": {
      "name": "python3",
      "display_name": "Python 3"
    },
    "language_info": {
      "name": "python"
    }
  },
  "cells": [
    {
      "cell_type": "markdown",
      "metadata": {
        "id": "view-in-github",
        "colab_type": "text"
      },
      "source": [
        "<a href=\"https://colab.research.google.com/github/dinsor17/data_viz/blob/main/Quiz5(2).ipynb\" target=\"_parent\"><img src=\"https://colab.research.google.com/assets/colab-badge.svg\" alt=\"Open In Colab\"/></a>"
      ]
    },
    {
      "cell_type": "code",
      "metadata": {
        "id": "oQSHBmGtBKjP"
      },
      "source": [
        "import pandas as pd"
      ],
      "execution_count": 1,
      "outputs": []
    },
    {
      "cell_type": "code",
      "metadata": {
        "colab": {
          "base_uri": "https://localhost:8080/"
        },
        "id": "6u-D9LXrBT4w",
        "outputId": "1161fa39-2f21-4254-9407-cb162649802c"
      },
      "source": [
        "from google.colab import drive\n",
        "drive.mount('/content/drive')"
      ],
      "execution_count": 3,
      "outputs": [
        {
          "output_type": "stream",
          "text": [
            "Mounted at /content/drive\n"
          ],
          "name": "stdout"
        }
      ]
    },
    {
      "cell_type": "code",
      "metadata": {
        "id": "kZAtf6xiBVaO"
      },
      "source": [
        "import os \n",
        "path = '/content/drive/My Drive/dataviz_2021_data'"
      ],
      "execution_count": 4,
      "outputs": []
    },
    {
      "cell_type": "code",
      "metadata": {
        "colab": {
          "base_uri": "https://localhost:8080/"
        },
        "id": "BDBryCRyBWy3",
        "outputId": "6f440743-dc90-4809-abb8-f59f6971485c"
      },
      "source": [
        "file_path = os.path.join(path,'search_request.csv') \n",
        "print(file_path)"
      ],
      "execution_count": 5,
      "outputs": [
        {
          "output_type": "stream",
          "text": [
            "/content/drive/My Drive/dataviz_2021_data/search_request.csv\n"
          ],
          "name": "stdout"
        }
      ]
    },
    {
      "cell_type": "code",
      "metadata": {
        "colab": {
          "base_uri": "https://localhost:8080/",
          "height": 1000
        },
        "id": "H6HU-FZQBYZH",
        "outputId": "dfd1ba73-8f34-4b9a-b899-d3a2b3c9c843"
      },
      "source": [
        "d6  =  pd.read_csv('/content/drive/My Drive/dataviz_2021_data/search_request.csv') \n",
        "d6"
      ],
      "execution_count": 6,
      "outputs": [
        {
          "output_type": "stream",
          "text": [
            "/usr/local/lib/python3.7/dist-packages/IPython/core/interactiveshell.py:2718: DtypeWarning: Columns (7,8,9) have mixed types.Specify dtype option on import or set low_memory=False.\n",
            "  interactivity=interactivity, compiler=compiler, result=result)\n"
          ],
          "name": "stderr"
        },
        {
          "output_type": "execute_result",
          "data": {
            "text/html": [
              "<div>\n",
              "<style scoped>\n",
              "    .dataframe tbody tr th:only-of-type {\n",
              "        vertical-align: middle;\n",
              "    }\n",
              "\n",
              "    .dataframe tbody tr th {\n",
              "        vertical-align: top;\n",
              "    }\n",
              "\n",
              "    .dataframe thead th {\n",
              "        text-align: right;\n",
              "    }\n",
              "</style>\n",
              "<table border=\"1\" class=\"dataframe\">\n",
              "  <thead>\n",
              "    <tr style=\"text-align: right;\">\n",
              "      <th></th>\n",
              "      <th>Unnamed: 0</th>\n",
              "      <th>search_id</th>\n",
              "      <th>search_timestamp</th>\n",
              "      <th>user_agent</th>\n",
              "      <th>q</th>\n",
              "      <th>user_id</th>\n",
              "      <th>session_id</th>\n",
              "      <th>number_of_result</th>\n",
              "      <th>lat</th>\n",
              "      <th>long</th>\n",
              "    </tr>\n",
              "  </thead>\n",
              "  <tbody>\n",
              "    <tr>\n",
              "      <th>0</th>\n",
              "      <td>0</td>\n",
              "      <td>683de889-f923-494e-9d46-44a3d67b7259</td>\n",
              "      <td>2018-06-14 12:34:35.449</td>\n",
              "      <td>Wongnai/8.17.3 rv:8.17.3.3921 (iPhone5,4; iOS;...</td>\n",
              "      <td>NaN</td>\n",
              "      <td>NaN</td>\n",
              "      <td>5lqjjikta19d296mo7g2h1k86p</td>\n",
              "      <td>18</td>\n",
              "      <td>12.6347</td>\n",
              "      <td>101.463</td>\n",
              "    </tr>\n",
              "    <tr>\n",
              "      <th>1</th>\n",
              "      <td>1</td>\n",
              "      <td>4a811230-ffa4-4631-a4c8-5d0394137d02</td>\n",
              "      <td>2018-06-14 17:11:19.469</td>\n",
              "      <td>Mozilla/5.0 (iPhone; CPU iPhone OS 11_4 like M...</td>\n",
              "      <td>NaN</td>\n",
              "      <td>NaN</td>\n",
              "      <td>1r3iotmp0o9slom91stdt9vivc</td>\n",
              "      <td>10</td>\n",
              "      <td>14.8009</td>\n",
              "      <td>102.534</td>\n",
              "    </tr>\n",
              "    <tr>\n",
              "      <th>2</th>\n",
              "      <td>2</td>\n",
              "      <td>7ad6ee8e-438e-4bea-9183-74dcef9e358e</td>\n",
              "      <td>2018-06-14 13:22:31.736</td>\n",
              "      <td>Mozilla/5.0 (Linux; Android 7.0; SAMSUNG SM-J7...</td>\n",
              "      <td>NaN</td>\n",
              "      <td>NaN</td>\n",
              "      <td>5ci1eo4v5u9dha4ppgu94ue7p6</td>\n",
              "      <td>8</td>\n",
              "      <td>13.7383</td>\n",
              "      <td>100.371</td>\n",
              "    </tr>\n",
              "    <tr>\n",
              "      <th>3</th>\n",
              "      <td>3</td>\n",
              "      <td>0c17a5f5-fa89-40f4-ae94-a8659268f827</td>\n",
              "      <td>2018-06-02 12:37:27.331</td>\n",
              "      <td>Mozilla/5.0 (Linux; Android 7.1.1; SM-N950F Bu...</td>\n",
              "      <td>NaN</td>\n",
              "      <td>NaN</td>\n",
              "      <td>39n535qgje9kpojp0grhfj8umk</td>\n",
              "      <td>12</td>\n",
              "      <td>12.6669</td>\n",
              "      <td>101.861</td>\n",
              "    </tr>\n",
              "    <tr>\n",
              "      <th>4</th>\n",
              "      <td>4</td>\n",
              "      <td>6870dc3a-5602-44fc-80ed-df0a7783df9d</td>\n",
              "      <td>2018-06-02 11:19:22.404</td>\n",
              "      <td>Mozilla/5.0 (iPhone; CPU iPhone OS 11_3_1 like...</td>\n",
              "      <td>NaN</td>\n",
              "      <td>NaN</td>\n",
              "      <td>5pa03h6lj691to60erver1l8o4</td>\n",
              "      <td>14</td>\n",
              "      <td>12.2372</td>\n",
              "      <td>99.88</td>\n",
              "    </tr>\n",
              "    <tr>\n",
              "      <th>...</th>\n",
              "      <td>...</td>\n",
              "      <td>...</td>\n",
              "      <td>...</td>\n",
              "      <td>...</td>\n",
              "      <td>...</td>\n",
              "      <td>...</td>\n",
              "      <td>...</td>\n",
              "      <td>...</td>\n",
              "      <td>...</td>\n",
              "      <td>...</td>\n",
              "    </tr>\n",
              "    <tr>\n",
              "      <th>10004352</th>\n",
              "      <td>10005225</td>\n",
              "      <td>5d8c10aa-63cf-4bdd-ab01-0af17a98781f</td>\n",
              "      <td>2018-06-24 09:23:57.777</td>\n",
              "      <td>okhttp/3.9.0;WongnaiAndroid 8.16.6;OPPO;CPH1729</td>\n",
              "      <td>NaN</td>\n",
              "      <td>153319.0</td>\n",
              "      <td>1oaki72de48dm87jbgj2a2crgf</td>\n",
              "      <td>22</td>\n",
              "      <td>NaN</td>\n",
              "      <td>NaN</td>\n",
              "    </tr>\n",
              "    <tr>\n",
              "      <th>10004353</th>\n",
              "      <td>10005226</td>\n",
              "      <td>66cc94db-217a-4d8e-aa20-b1d10e17c968</td>\n",
              "      <td>2018-06-24 17:03:39.908</td>\n",
              "      <td>Wongnai/10.0 (iPhone10,6; iOS; 11.4; en_TH;)</td>\n",
              "      <td>NaN</td>\n",
              "      <td>NaN</td>\n",
              "      <td>1pb7i5fe2g9hd92qbkbgh06aek</td>\n",
              "      <td>22</td>\n",
              "      <td>NaN</td>\n",
              "      <td>NaN</td>\n",
              "    </tr>\n",
              "    <tr>\n",
              "      <th>10004354</th>\n",
              "      <td>10005227</td>\n",
              "      <td>4eb3b514-fb71-4dfe-a580-c560e8c9dcc7</td>\n",
              "      <td>2018-06-24 19:17:55.797</td>\n",
              "      <td>Wongnai/10.0 (iPhone10,6; iOS; 11.4; en_TH;)</td>\n",
              "      <td>NaN</td>\n",
              "      <td>NaN</td>\n",
              "      <td>282oq0of578c6p4q760medgd30</td>\n",
              "      <td>22</td>\n",
              "      <td>NaN</td>\n",
              "      <td>NaN</td>\n",
              "    </tr>\n",
              "    <tr>\n",
              "      <th>10004355</th>\n",
              "      <td>10005228</td>\n",
              "      <td>f5554532-2eb1-4ba6-a98e-1e10b2174d2c</td>\n",
              "      <td>2018-06-24 16:53:06.067</td>\n",
              "      <td>Wongnai/10.0 (iPhone10,6; iOS; 11.4; en_TH;)</td>\n",
              "      <td>NaN</td>\n",
              "      <td>21520.0</td>\n",
              "      <td>2cpkib5gr19un9fmner728bair</td>\n",
              "      <td>22</td>\n",
              "      <td>NaN</td>\n",
              "      <td>NaN</td>\n",
              "    </tr>\n",
              "    <tr>\n",
              "      <th>10004356</th>\n",
              "      <td>10005229</td>\n",
              "      <td>48421ba4-8c69-46a5-aa05-425ddc82a09a</td>\n",
              "      <td>2018-06-24 18:06:58.441</td>\n",
              "      <td>Wongnai/10.0 (iPhone10,6; iOS; 11.4; en_TH;)</td>\n",
              "      <td>NaN</td>\n",
              "      <td>23581.0</td>\n",
              "      <td>2hb8cusb4797ioih8nq118l4t0</td>\n",
              "      <td>22</td>\n",
              "      <td>NaN</td>\n",
              "      <td>NaN</td>\n",
              "    </tr>\n",
              "  </tbody>\n",
              "</table>\n",
              "<p>10004357 rows × 10 columns</p>\n",
              "</div>"
            ],
            "text/plain": [
              "          Unnamed: 0                             search_id  ...      lat     long\n",
              "0                  0  683de889-f923-494e-9d46-44a3d67b7259  ...  12.6347  101.463\n",
              "1                  1  4a811230-ffa4-4631-a4c8-5d0394137d02  ...  14.8009  102.534\n",
              "2                  2  7ad6ee8e-438e-4bea-9183-74dcef9e358e  ...  13.7383  100.371\n",
              "3                  3  0c17a5f5-fa89-40f4-ae94-a8659268f827  ...  12.6669  101.861\n",
              "4                  4  6870dc3a-5602-44fc-80ed-df0a7783df9d  ...  12.2372    99.88\n",
              "...              ...                                   ...  ...      ...      ...\n",
              "10004352    10005225  5d8c10aa-63cf-4bdd-ab01-0af17a98781f  ...      NaN      NaN\n",
              "10004353    10005226  66cc94db-217a-4d8e-aa20-b1d10e17c968  ...      NaN      NaN\n",
              "10004354    10005227  4eb3b514-fb71-4dfe-a580-c560e8c9dcc7  ...      NaN      NaN\n",
              "10004355    10005228  f5554532-2eb1-4ba6-a98e-1e10b2174d2c  ...      NaN      NaN\n",
              "10004356    10005229  48421ba4-8c69-46a5-aa05-425ddc82a09a  ...      NaN      NaN\n",
              "\n",
              "[10004357 rows x 10 columns]"
            ]
          },
          "metadata": {
            "tags": []
          },
          "execution_count": 6
        }
      ]
    },
    {
      "cell_type": "markdown",
      "metadata": {
        "id": "ihLbkd37Bxfr"
      },
      "source": [
        "![image.png](data:image/png;base64,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)"
      ]
    },
    {
      "cell_type": "code",
      "metadata": {
        "colab": {
          "base_uri": "https://localhost:8080/",
          "height": 35
        },
        "id": "gsuMkHhWB1VC",
        "outputId": "92016da0-91f1-43c0-b7e8-c28955ebf37d"
      },
      "source": [
        "d6.iloc[0,2]"
      ],
      "execution_count": 17,
      "outputs": [
        {
          "output_type": "execute_result",
          "data": {
            "application/vnd.google.colaboratory.intrinsic+json": {
              "type": "string"
            },
            "text/plain": [
              "'2018-06-14 12:34:35.449'"
            ]
          },
          "metadata": {
            "tags": []
          },
          "execution_count": 17
        }
      ]
    },
    {
      "cell_type": "code",
      "metadata": {
        "id": "ihoxsOg7CEJT"
      },
      "source": [
        "from datetime import datetime"
      ],
      "execution_count": 18,
      "outputs": []
    },
    {
      "cell_type": "code",
      "metadata": {
        "id": "KSYtHER0CT3G"
      },
      "source": [
        "d6['search_timestamp'] = pd.to_datetime(d6['search_timestamp'], format='%Y-%m-%d')\n",
        "d6"
      ],
      "execution_count": null,
      "outputs": []
    },
    {
      "cell_type": "code",
      "metadata": {
        "id": "g083-iyLCrsg"
      },
      "source": [
        "A = d6[d6['search_timestamp']<datetime(day=2,month=6,year=2020)].sum()\n",
        "print(A)"
      ],
      "execution_count": null,
      "outputs": []
    }
  ]
}