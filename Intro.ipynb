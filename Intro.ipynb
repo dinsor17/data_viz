{
  "nbformat": 4,
  "nbformat_minor": 0,
  "metadata": {
    "colab": {
      "name": "Intro.ipynb",
      "provenance": [],
      "authorship_tag": "ABX9TyOoAPrEFDAdNJaes0GU4QKc",
      "include_colab_link": true
    },
    "kernelspec": {
      "name": "python3",
      "display_name": "Python 3"
    }
  },
  "cells": [
    {
      "cell_type": "markdown",
      "metadata": {
        "id": "view-in-github",
        "colab_type": "text"
      },
      "source": [
        "<a href=\"https://colab.research.google.com/github/dinsor17/data_viz/blob/main/Intro.ipynb\" target=\"_parent\"><img src=\"https://colab.research.google.com/assets/colab-badge.svg\" alt=\"Open In Colab\"/></a>"
      ]
    },
    {
      "cell_type": "markdown",
      "metadata": {
        "id": "jmEJtMuCMeCA"
      },
      "source": [
        "นารินทร์ แสงพระจันทร์ 613020614-0"
      ]
    },
    {
      "cell_type": "markdown",
      "metadata": {
        "id": "WvHclxysNIlS"
      },
      "source": [
        "ภาษา Markdown\r\n",
        "\r\n",
        "# Markdown\r\n",
        "## Markdown\r\n",
        "~strike~ "
      ]
    },
    {
      "cell_type": "code",
      "metadata": {
        "colab": {
          "base_uri": "https://localhost:8080/"
        },
        "id": "HB3C578cMyzU",
        "outputId": "fbb7c51d-145c-4b0b-ba71-cdf51156bfc1"
      },
      "source": [
        "print('นารินทร์')"
      ],
      "execution_count": 1,
      "outputs": [
        {
          "output_type": "stream",
          "text": [
            "นารินทร์\n"
          ],
          "name": "stdout"
        }
      ]
    }
  ]
}